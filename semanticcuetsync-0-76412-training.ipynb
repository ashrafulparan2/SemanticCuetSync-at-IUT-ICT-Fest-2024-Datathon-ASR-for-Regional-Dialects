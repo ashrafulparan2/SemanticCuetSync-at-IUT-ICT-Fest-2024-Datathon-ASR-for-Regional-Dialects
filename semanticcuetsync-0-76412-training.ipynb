{
 "cells": [
  {
   "cell_type": "code",
   "execution_count": 1,
   "id": "002b514d",
   "metadata": {
    "_cell_guid": "b1076dfc-b9ad-4769-8c92-a6c4dae69d19",
    "_uuid": "8f2839f25d086af736a60e9eeb907d3b93b6e0e5",
    "execution": {
     "iopub.execute_input": "2024-04-23T07:47:38.153706Z",
     "iopub.status.busy": "2024-04-23T07:47:38.152828Z",
     "iopub.status.idle": "2024-04-23T07:48:02.257654Z",
     "shell.execute_reply": "2024-04-23T07:48:02.256763Z"
    },
    "papermill": {
     "duration": 24.124546,
     "end_time": "2024-04-23T07:48:02.259933",
     "exception": false,
     "start_time": "2024-04-23T07:47:38.135387",
     "status": "completed"
    },
    "tags": []
   },
   "outputs": [
    {
     "name": "stderr",
     "output_type": "stream",
     "text": [
      "2024-04-23 07:47:50.454682: E external/local_xla/xla/stream_executor/cuda/cuda_dnn.cc:9261] Unable to register cuDNN factory: Attempting to register factory for plugin cuDNN when one has already been registered\n",
      "2024-04-23 07:47:50.454827: E external/local_xla/xla/stream_executor/cuda/cuda_fft.cc:607] Unable to register cuFFT factory: Attempting to register factory for plugin cuFFT when one has already been registered\n",
      "2024-04-23 07:47:50.585816: E external/local_xla/xla/stream_executor/cuda/cuda_blas.cc:1515] Unable to register cuBLAS factory: Attempting to register factory for plugin cuBLAS when one has already been registered\n"
     ]
    }
   ],
   "source": [
    "import os\n",
    "\n",
    "import pandas as pd\n",
    "\n",
    "import librosa\n",
    "import librosa.display\n",
    "\n",
    "import numpy as np\n",
    "\n",
    "import IPython.display as ipd\n",
    "\n",
    "import matplotlib.pyplot as plt\n",
    "\n",
    "import random\n",
    "\n",
    "from collections import Counter\n",
    "\n",
    "from sklearn.model_selection import train_test_split\n",
    "\n",
    "import torch\n",
    "import torchaudio\n",
    "\n",
    "from dataclasses import dataclass\n",
    "from typing import Any, Dict, List, Union\n",
    "from datasets import DatasetDict\n",
    "from datasets import Dataset as DS\n",
    "\n",
    "from transformers import (\n",
    "    WhisperFeatureExtractor,\n",
    "    WhisperTokenizer,\n",
    "    WhisperProcessor,\n",
    "    WhisperForConditionalGeneration,\n",
    "    Seq2SeqTrainingArguments,\n",
    "    Seq2SeqTrainer,\n",
    "    TrainerCallback,\n",
    "    TrainingArguments,\n",
    "    TrainerState,\n",
    "    TrainerControl,\n",
    "    EarlyStoppingCallback,\n",
    "    pipeline\n",
    ")\n",
    "\n",
    "from torchmetrics.text import WordErrorRate, CharErrorRate"
   ]
  },
  {
   "cell_type": "code",
   "execution_count": 2,
   "id": "734c150d",
   "metadata": {
    "execution": {
     "iopub.execute_input": "2024-04-23T07:48:02.294687Z",
     "iopub.status.busy": "2024-04-23T07:48:02.294004Z",
     "iopub.status.idle": "2024-04-23T07:48:06.273470Z",
     "shell.execute_reply": "2024-04-23T07:48:06.272151Z"
    },
    "papermill": {
     "duration": 3.999306,
     "end_time": "2024-04-23T07:48:06.275491",
     "exception": false,
     "start_time": "2024-04-23T07:48:02.276185",
     "status": "completed"
    },
    "tags": []
   },
   "outputs": [
    {
     "name": "stdout",
     "output_type": "stream",
     "text": [
      "Note: you may need to restart the kernel to use updated packages.\n"
     ]
    }
   ],
   "source": [
    "pip freeze > requirements.txt"
   ]
  },
  {
   "cell_type": "code",
   "execution_count": 3,
   "id": "397d4a71",
   "metadata": {
    "execution": {
     "iopub.execute_input": "2024-04-23T07:48:06.309650Z",
     "iopub.status.busy": "2024-04-23T07:48:06.309281Z",
     "iopub.status.idle": "2024-04-23T07:48:06.314439Z",
     "shell.execute_reply": "2024-04-23T07:48:06.313499Z"
    },
    "papermill": {
     "duration": 0.024446,
     "end_time": "2024-04-23T07:48:06.316399",
     "exception": false,
     "start_time": "2024-04-23T07:48:06.291953",
     "status": "completed"
    },
    "tags": []
   },
   "outputs": [],
   "source": [
    "BASE_DIR = '/kaggle/input/ben10/ben10'\n",
    "train_data_dir = f\"{BASE_DIR}/16_kHz_train_audio/\"\n",
    "test_data_dir = f\"{BASE_DIR}/16_kHz_valid_audio/\"\n",
    "data_path = f\"{BASE_DIR}/train.csv\""
   ]
  },
  {
   "cell_type": "code",
   "execution_count": 4,
   "id": "8f688ef3",
   "metadata": {
    "execution": {
     "iopub.execute_input": "2024-04-23T07:48:06.349483Z",
     "iopub.status.busy": "2024-04-23T07:48:06.348699Z",
     "iopub.status.idle": "2024-04-23T07:48:06.353255Z",
     "shell.execute_reply": "2024-04-23T07:48:06.352236Z"
    },
    "papermill": {
     "duration": 0.023489,
     "end_time": "2024-04-23T07:48:06.355490",
     "exception": false,
     "start_time": "2024-04-23T07:48:06.332001",
     "status": "completed"
    },
    "tags": []
   },
   "outputs": [],
   "source": [
    "split2path = {\n",
    "    \"train\": train_data_dir,\n",
    "    \"test\": test_data_dir,\n",
    "}"
   ]
  },
  {
   "cell_type": "code",
   "execution_count": 5,
   "id": "92300a69",
   "metadata": {
    "execution": {
     "iopub.execute_input": "2024-04-23T07:48:06.388954Z",
     "iopub.status.busy": "2024-04-23T07:48:06.388586Z",
     "iopub.status.idle": "2024-04-23T07:48:06.598405Z",
     "shell.execute_reply": "2024-04-23T07:48:06.597408Z"
    },
    "papermill": {
     "duration": 0.229175,
     "end_time": "2024-04-23T07:48:06.600793",
     "exception": false,
     "start_time": "2024-04-23T07:48:06.371618",
     "status": "completed"
    },
    "tags": []
   },
   "outputs": [
    {
     "data": {
      "text/html": [
       "<div>\n",
       "<style scoped>\n",
       "    .dataframe tbody tr th:only-of-type {\n",
       "        vertical-align: middle;\n",
       "    }\n",
       "\n",
       "    .dataframe tbody tr th {\n",
       "        vertical-align: top;\n",
       "    }\n",
       "\n",
       "    .dataframe thead th {\n",
       "        text-align: right;\n",
       "    }\n",
       "</style>\n",
       "<table border=\"1\" class=\"dataframe\">\n",
       "  <thead>\n",
       "    <tr style=\"text-align: right;\">\n",
       "      <th></th>\n",
       "      <th>file_name</th>\n",
       "      <th>transcripts</th>\n",
       "    </tr>\n",
       "  </thead>\n",
       "  <tbody>\n",
       "    <tr>\n",
       "      <th>12816</th>\n",
       "      <td>train_tangail (264).wav</td>\n",
       "      <td>বুঝছো? হ দরকার পড়লে একবেলা না খাইয়া থাকমু। তাও...</td>\n",
       "    </tr>\n",
       "    <tr>\n",
       "      <th>922</th>\n",
       "      <td>train_sandwip (923).wav</td>\n",
       "      <td>তারা অবশ্য জিজ্ঞাইবার কথা আইছল হরে কই যে হ্যাঁ...</td>\n",
       "    </tr>\n",
       "    <tr>\n",
       "      <th>12756</th>\n",
       "      <td>train_tangail (204).wav</td>\n",
       "      <td>না করো, কিবা দেহা যায় না! ভালো সোর্সে যদি ভালো...</td>\n",
       "    </tr>\n",
       "    <tr>\n",
       "      <th>11827</th>\n",
       "      <td>train_sylhet (2220).wav</td>\n",
       "      <td>আমি অইলাম যে, ই ব্যাটির অইলো যে ইও আছে। কিতা ই...</td>\n",
       "    </tr>\n",
       "    <tr>\n",
       "      <th>3710</th>\n",
       "      <td>train_habiganj (387).wav</td>\n",
       "      <td>আমরার সাতে ঝগড়া-বিবাদের একটা অবস্থা তৈরি হইছিল...</td>\n",
       "    </tr>\n",
       "    <tr>\n",
       "      <th>8212</th>\n",
       "      <td>train_narsingdi (769).wav</td>\n",
       "      <td>সেঞ্চুরি আছে পাচটা না ছয়ডা। লিটনের &lt;&gt; খেলতো &lt;&gt;...</td>\n",
       "    </tr>\n",
       "    <tr>\n",
       "      <th>6474</th>\n",
       "      <td>train_narail (535).wav</td>\n",
       "      <td>রাগিব আর আমিই তো। মানে দুইজনের পুরো জীবনের রিস...</td>\n",
       "    </tr>\n",
       "    <tr>\n",
       "      <th>2296</th>\n",
       "      <td>train_chittagong (392).wav</td>\n",
       "      <td>কিল্লাই? \\nইতে নাকি খোন চেয়ারম্যানের কী বলে কী...</td>\n",
       "    </tr>\n",
       "    <tr>\n",
       "      <th>10732</th>\n",
       "      <td>train_sylhet (1125).wav</td>\n",
       "      <td>কিসের, কুন? ইটা ওইযে পুষ্টি গ্রুপ আছে না? পুষ্...</td>\n",
       "    </tr>\n",
       "    <tr>\n",
       "      <th>10822</th>\n",
       "      <td>train_sylhet (1215).wav</td>\n",
       "      <td>তো বিয়াটা মুটামুটি যেহেতু কবিড টাইমে ওইছে, ইলা...</td>\n",
       "    </tr>\n",
       "  </tbody>\n",
       "</table>\n",
       "</div>"
      ],
      "text/plain": [
       "                        file_name  \\\n",
       "12816     train_tangail (264).wav   \n",
       "922       train_sandwip (923).wav   \n",
       "12756     train_tangail (204).wav   \n",
       "11827     train_sylhet (2220).wav   \n",
       "3710     train_habiganj (387).wav   \n",
       "8212    train_narsingdi (769).wav   \n",
       "6474       train_narail (535).wav   \n",
       "2296   train_chittagong (392).wav   \n",
       "10732     train_sylhet (1125).wav   \n",
       "10822     train_sylhet (1215).wav   \n",
       "\n",
       "                                             transcripts  \n",
       "12816  বুঝছো? হ দরকার পড়লে একবেলা না খাইয়া থাকমু। তাও...  \n",
       "922    তারা অবশ্য জিজ্ঞাইবার কথা আইছল হরে কই যে হ্যাঁ...  \n",
       "12756  না করো, কিবা দেহা যায় না! ভালো সোর্সে যদি ভালো...  \n",
       "11827  আমি অইলাম যে, ই ব্যাটির অইলো যে ইও আছে। কিতা ই...  \n",
       "3710   আমরার সাতে ঝগড়া-বিবাদের একটা অবস্থা তৈরি হইছিল...  \n",
       "8212   সেঞ্চুরি আছে পাচটা না ছয়ডা। লিটনের <> খেলতো <>...  \n",
       "6474   রাগিব আর আমিই তো। মানে দুইজনের পুরো জীবনের রিস...  \n",
       "2296   কিল্লাই? \\nইতে নাকি খোন চেয়ারম্যানের কী বলে কী...  \n",
       "10732  কিসের, কুন? ইটা ওইযে পুষ্টি গ্রুপ আছে না? পুষ্...  \n",
       "10822  তো বিয়াটা মুটামুটি যেহেতু কবিড টাইমে ওইছে, ইলা...  "
      ]
     },
     "execution_count": 5,
     "metadata": {},
     "output_type": "execute_result"
    }
   ],
   "source": [
    "data = pd.read_csv(data_path)\n",
    "data.sample(10)"
   ]
  },
  {
   "cell_type": "code",
   "execution_count": null,
   "id": "ab3852b4",
   "metadata": {
    "papermill": {
     "duration": 0.015563,
     "end_time": "2024-04-23T07:48:06.634302",
     "exception": false,
     "start_time": "2024-04-23T07:48:06.618739",
     "status": "completed"
    },
    "tags": []
   },
   "outputs": [],
   "source": []
  },
  {
   "cell_type": "code",
   "execution_count": 6,
   "id": "d701794e",
   "metadata": {
    "execution": {
     "iopub.execute_input": "2024-04-23T07:48:06.667730Z",
     "iopub.status.busy": "2024-04-23T07:48:06.667390Z",
     "iopub.status.idle": "2024-04-23T07:48:06.677529Z",
     "shell.execute_reply": "2024-04-23T07:48:06.676805Z"
    },
    "papermill": {
     "duration": 0.028934,
     "end_time": "2024-04-23T07:48:06.679397",
     "exception": false,
     "start_time": "2024-04-23T07:48:06.650463",
     "status": "completed"
    },
    "tags": []
   },
   "outputs": [],
   "source": [
    "def extract_split(filename):\n",
    "    filename_ = filename.split(\"_\")\n",
    "    split = filename_[0]\n",
    "    return split\n",
    "\n",
    "def extract_district(filename):\n",
    "    filename_ = filename.split(\" \")[0]\n",
    "    district = filename_.split(\"_\")[1]\n",
    "    return district\n",
    "\n",
    "def beautify_dataset(data):\n",
    "    splits = []\n",
    "    districts = []\n",
    "    newpaths = []\n",
    "    transcripts = []\n",
    "    \n",
    "    for i in range(len(data)):\n",
    "        filename, transcript = data.iloc[i]\n",
    "        split = extract_split(filename)\n",
    "        district = extract_district(filename)\n",
    "        dir_path = split2path[split]\n",
    "        composed_path = f\"{dir_path}{filename}\"\n",
    "        \n",
    "        if os.path.exists(composed_path) == False:\n",
    "            print(f\"{composed_path} does not exist.\")\n",
    "            continue\n",
    "        \n",
    "        # replace any newline characters\n",
    "        transcript = transcript.replace(\"\\n\", \" \")\n",
    "        transcript = \" \".join(transcript.split())\n",
    "        \n",
    "        splits.append(split)\n",
    "        districts.append(district)\n",
    "        newpaths.append(composed_path)\n",
    "        transcripts.append(transcript)\n",
    "    \n",
    "    data['file_path'] = newpaths\n",
    "    data['district'] = districts\n",
    "    data['split'] = splits\n",
    "    data['transcripts'] = transcripts\n",
    "    \n",
    "#     data.drop(columns=['file_name'], inplace=True)\n",
    "    \n",
    "    return data"
   ]
  },
  {
   "cell_type": "code",
   "execution_count": 7,
   "id": "669536a9",
   "metadata": {
    "execution": {
     "iopub.execute_input": "2024-04-23T07:48:06.712859Z",
     "iopub.status.busy": "2024-04-23T07:48:06.712522Z",
     "iopub.status.idle": "2024-04-23T07:49:14.355118Z",
     "shell.execute_reply": "2024-04-23T07:49:14.354266Z"
    },
    "papermill": {
     "duration": 67.662137,
     "end_time": "2024-04-23T07:49:14.357664",
     "exception": false,
     "start_time": "2024-04-23T07:48:06.695527",
     "status": "completed"
    },
    "tags": []
   },
   "outputs": [],
   "source": [
    "data = beautify_dataset(data)\n"
   ]
  },
  {
   "cell_type": "code",
   "execution_count": null,
   "id": "24ec864c",
   "metadata": {
    "papermill": {
     "duration": 0.015677,
     "end_time": "2024-04-23T07:49:14.389629",
     "exception": false,
     "start_time": "2024-04-23T07:49:14.373952",
     "status": "completed"
    },
    "tags": []
   },
   "outputs": [],
   "source": []
  },
  {
   "cell_type": "code",
   "execution_count": 8,
   "id": "fdffc555",
   "metadata": {
    "execution": {
     "iopub.execute_input": "2024-04-23T07:49:14.425106Z",
     "iopub.status.busy": "2024-04-23T07:49:14.424410Z",
     "iopub.status.idle": "2024-04-23T07:49:14.444116Z",
     "shell.execute_reply": "2024-04-23T07:49:14.443092Z"
    },
    "papermill": {
     "duration": 0.040348,
     "end_time": "2024-04-23T07:49:14.446945",
     "exception": false,
     "start_time": "2024-04-23T07:49:14.406597",
     "status": "completed"
    },
    "tags": []
   },
   "outputs": [
    {
     "data": {
      "text/html": [
       "<div>\n",
       "<style scoped>\n",
       "    .dataframe tbody tr th:only-of-type {\n",
       "        vertical-align: middle;\n",
       "    }\n",
       "\n",
       "    .dataframe tbody tr th {\n",
       "        vertical-align: top;\n",
       "    }\n",
       "\n",
       "    .dataframe thead th {\n",
       "        text-align: right;\n",
       "    }\n",
       "</style>\n",
       "<table border=\"1\" class=\"dataframe\">\n",
       "  <thead>\n",
       "    <tr style=\"text-align: right;\">\n",
       "      <th></th>\n",
       "      <th>file_name</th>\n",
       "      <th>transcripts</th>\n",
       "      <th>file_path</th>\n",
       "      <th>district</th>\n",
       "      <th>split</th>\n",
       "    </tr>\n",
       "  </thead>\n",
       "  <tbody>\n",
       "    <tr>\n",
       "      <th>721</th>\n",
       "      <td>train_sandwip (722).wav</td>\n",
       "      <td>&lt;&gt;</td>\n",
       "      <td>/kaggle/input/ben10/ben10/16_kHz_train_audio/t...</td>\n",
       "      <td>sandwip</td>\n",
       "      <td>train</td>\n",
       "    </tr>\n",
       "    <tr>\n",
       "      <th>1296</th>\n",
       "      <td>train_barishal (242).wav</td>\n",
       "      <td>&lt;&gt;</td>\n",
       "      <td>/kaggle/input/ben10/ben10/16_kHz_train_audio/t...</td>\n",
       "      <td>barishal</td>\n",
       "      <td>train</td>\n",
       "    </tr>\n",
       "    <tr>\n",
       "      <th>1298</th>\n",
       "      <td>train_barishal (244).wav</td>\n",
       "      <td>&lt;&gt;</td>\n",
       "      <td>/kaggle/input/ben10/ben10/16_kHz_train_audio/t...</td>\n",
       "      <td>barishal</td>\n",
       "      <td>train</td>\n",
       "    </tr>\n",
       "    <tr>\n",
       "      <th>1299</th>\n",
       "      <td>train_barishal (245).wav</td>\n",
       "      <td>&lt;&gt;</td>\n",
       "      <td>/kaggle/input/ben10/ben10/16_kHz_train_audio/t...</td>\n",
       "      <td>barishal</td>\n",
       "      <td>train</td>\n",
       "    </tr>\n",
       "    <tr>\n",
       "      <th>1301</th>\n",
       "      <td>train_barishal (247).wav</td>\n",
       "      <td>&lt;&gt;</td>\n",
       "      <td>/kaggle/input/ben10/ben10/16_kHz_train_audio/t...</td>\n",
       "      <td>barishal</td>\n",
       "      <td>train</td>\n",
       "    </tr>\n",
       "    <tr>\n",
       "      <th>...</th>\n",
       "      <td>...</td>\n",
       "      <td>...</td>\n",
       "      <td>...</td>\n",
       "      <td>...</td>\n",
       "      <td>...</td>\n",
       "    </tr>\n",
       "    <tr>\n",
       "      <th>13330</th>\n",
       "      <td>train_tangail (778).wav</td>\n",
       "      <td>&lt;&gt;</td>\n",
       "      <td>/kaggle/input/ben10/ben10/16_kHz_train_audio/t...</td>\n",
       "      <td>tangail</td>\n",
       "      <td>train</td>\n",
       "    </tr>\n",
       "    <tr>\n",
       "      <th>13336</th>\n",
       "      <td>train_tangail (784).wav</td>\n",
       "      <td>&lt;&gt;</td>\n",
       "      <td>/kaggle/input/ben10/ben10/16_kHz_train_audio/t...</td>\n",
       "      <td>tangail</td>\n",
       "      <td>train</td>\n",
       "    </tr>\n",
       "    <tr>\n",
       "      <th>13356</th>\n",
       "      <td>train_tangail (804).wav</td>\n",
       "      <td>&lt;&gt;</td>\n",
       "      <td>/kaggle/input/ben10/ben10/16_kHz_train_audio/t...</td>\n",
       "      <td>tangail</td>\n",
       "      <td>train</td>\n",
       "    </tr>\n",
       "    <tr>\n",
       "      <th>13361</th>\n",
       "      <td>train_tangail (809).wav</td>\n",
       "      <td>&lt;&gt;</td>\n",
       "      <td>/kaggle/input/ben10/ben10/16_kHz_train_audio/t...</td>\n",
       "      <td>tangail</td>\n",
       "      <td>train</td>\n",
       "    </tr>\n",
       "    <tr>\n",
       "      <th>13461</th>\n",
       "      <td>train_tangail (909).wav</td>\n",
       "      <td>&lt;&gt;</td>\n",
       "      <td>/kaggle/input/ben10/ben10/16_kHz_train_audio/t...</td>\n",
       "      <td>tangail</td>\n",
       "      <td>train</td>\n",
       "    </tr>\n",
       "  </tbody>\n",
       "</table>\n",
       "<p>123 rows × 5 columns</p>\n",
       "</div>"
      ],
      "text/plain": [
       "                      file_name transcripts  \\\n",
       "721     train_sandwip (722).wav          <>   \n",
       "1296   train_barishal (242).wav          <>   \n",
       "1298   train_barishal (244).wav          <>   \n",
       "1299   train_barishal (245).wav          <>   \n",
       "1301   train_barishal (247).wav          <>   \n",
       "...                         ...         ...   \n",
       "13330   train_tangail (778).wav          <>   \n",
       "13336   train_tangail (784).wav          <>   \n",
       "13356   train_tangail (804).wav          <>   \n",
       "13361   train_tangail (809).wav          <>   \n",
       "13461   train_tangail (909).wav          <>   \n",
       "\n",
       "                                               file_path  district  split  \n",
       "721    /kaggle/input/ben10/ben10/16_kHz_train_audio/t...   sandwip  train  \n",
       "1296   /kaggle/input/ben10/ben10/16_kHz_train_audio/t...  barishal  train  \n",
       "1298   /kaggle/input/ben10/ben10/16_kHz_train_audio/t...  barishal  train  \n",
       "1299   /kaggle/input/ben10/ben10/16_kHz_train_audio/t...  barishal  train  \n",
       "1301   /kaggle/input/ben10/ben10/16_kHz_train_audio/t...  barishal  train  \n",
       "...                                                  ...       ...    ...  \n",
       "13330  /kaggle/input/ben10/ben10/16_kHz_train_audio/t...   tangail  train  \n",
       "13336  /kaggle/input/ben10/ben10/16_kHz_train_audio/t...   tangail  train  \n",
       "13356  /kaggle/input/ben10/ben10/16_kHz_train_audio/t...   tangail  train  \n",
       "13361  /kaggle/input/ben10/ben10/16_kHz_train_audio/t...   tangail  train  \n",
       "13461  /kaggle/input/ben10/ben10/16_kHz_train_audio/t...   tangail  train  \n",
       "\n",
       "[123 rows x 5 columns]"
      ]
     },
     "execution_count": 8,
     "metadata": {},
     "output_type": "execute_result"
    }
   ],
   "source": [
    "data[data[\"transcripts\"] == \"<>\"]"
   ]
  },
  {
   "cell_type": "code",
   "execution_count": 9,
   "id": "46a74869",
   "metadata": {
    "execution": {
     "iopub.execute_input": "2024-04-23T07:49:14.484354Z",
     "iopub.status.busy": "2024-04-23T07:49:14.483965Z",
     "iopub.status.idle": "2024-04-23T07:49:14.499357Z",
     "shell.execute_reply": "2024-04-23T07:49:14.498382Z"
    },
    "papermill": {
     "duration": 0.035855,
     "end_time": "2024-04-23T07:49:14.501545",
     "exception": false,
     "start_time": "2024-04-23T07:49:14.465690",
     "status": "completed"
    },
    "tags": []
   },
   "outputs": [
    {
     "data": {
      "text/html": [
       "<div>\n",
       "<style scoped>\n",
       "    .dataframe tbody tr th:only-of-type {\n",
       "        vertical-align: middle;\n",
       "    }\n",
       "\n",
       "    .dataframe tbody tr th {\n",
       "        vertical-align: top;\n",
       "    }\n",
       "\n",
       "    .dataframe thead th {\n",
       "        text-align: right;\n",
       "    }\n",
       "</style>\n",
       "<table border=\"1\" class=\"dataframe\">\n",
       "  <thead>\n",
       "    <tr style=\"text-align: right;\">\n",
       "      <th></th>\n",
       "      <th>file_name</th>\n",
       "      <th>transcripts</th>\n",
       "      <th>file_path</th>\n",
       "      <th>district</th>\n",
       "      <th>split</th>\n",
       "    </tr>\n",
       "  </thead>\n",
       "  <tbody>\n",
       "    <tr>\n",
       "      <th>3590</th>\n",
       "      <td>train_habiganj (267).wav</td>\n",
       "      <td></td>\n",
       "      <td>/kaggle/input/ben10/ben10/16_kHz_train_audio/t...</td>\n",
       "      <td>habiganj</td>\n",
       "      <td>train</td>\n",
       "    </tr>\n",
       "    <tr>\n",
       "      <th>13505</th>\n",
       "      <td>train_tangail (953).wav</td>\n",
       "      <td></td>\n",
       "      <td>/kaggle/input/ben10/ben10/16_kHz_train_audio/t...</td>\n",
       "      <td>tangail</td>\n",
       "      <td>train</td>\n",
       "    </tr>\n",
       "  </tbody>\n",
       "</table>\n",
       "</div>"
      ],
      "text/plain": [
       "                      file_name transcripts  \\\n",
       "3590   train_habiganj (267).wav               \n",
       "13505   train_tangail (953).wav               \n",
       "\n",
       "                                               file_path  district  split  \n",
       "3590   /kaggle/input/ben10/ben10/16_kHz_train_audio/t...  habiganj  train  \n",
       "13505  /kaggle/input/ben10/ben10/16_kHz_train_audio/t...   tangail  train  "
      ]
     },
     "execution_count": 9,
     "metadata": {},
     "output_type": "execute_result"
    }
   ],
   "source": [
    "data[data[\"transcripts\"] == \"\"]"
   ]
  },
  {
   "cell_type": "code",
   "execution_count": null,
   "id": "bbda023c",
   "metadata": {
    "papermill": {
     "duration": 0.016662,
     "end_time": "2024-04-23T07:49:14.536834",
     "exception": false,
     "start_time": "2024-04-23T07:49:14.520172",
     "status": "completed"
    },
    "tags": []
   },
   "outputs": [],
   "source": []
  },
  {
   "cell_type": "code",
   "execution_count": null,
   "id": "793bfef5",
   "metadata": {
    "papermill": {
     "duration": 0.016337,
     "end_time": "2024-04-23T07:49:14.570769",
     "exception": false,
     "start_time": "2024-04-23T07:49:14.554432",
     "status": "completed"
    },
    "tags": []
   },
   "outputs": [],
   "source": []
  },
  {
   "cell_type": "code",
   "execution_count": 10,
   "id": "4e8767c5",
   "metadata": {
    "execution": {
     "iopub.execute_input": "2024-04-23T07:49:14.605893Z",
     "iopub.status.busy": "2024-04-23T07:49:14.605570Z",
     "iopub.status.idle": "2024-04-23T07:49:14.620359Z",
     "shell.execute_reply": "2024-04-23T07:49:14.619425Z"
    },
    "papermill": {
     "duration": 0.034861,
     "end_time": "2024-04-23T07:49:14.622447",
     "exception": false,
     "start_time": "2024-04-23T07:49:14.587586",
     "status": "completed"
    },
    "tags": []
   },
   "outputs": [
    {
     "data": {
      "text/html": [
       "<div>\n",
       "<style scoped>\n",
       "    .dataframe tbody tr th:only-of-type {\n",
       "        vertical-align: middle;\n",
       "    }\n",
       "\n",
       "    .dataframe tbody tr th {\n",
       "        vertical-align: top;\n",
       "    }\n",
       "\n",
       "    .dataframe thead th {\n",
       "        text-align: right;\n",
       "    }\n",
       "</style>\n",
       "<table border=\"1\" class=\"dataframe\">\n",
       "  <thead>\n",
       "    <tr style=\"text-align: right;\">\n",
       "      <th></th>\n",
       "      <th>file_name</th>\n",
       "      <th>transcripts</th>\n",
       "      <th>file_path</th>\n",
       "      <th>district</th>\n",
       "      <th>split</th>\n",
       "    </tr>\n",
       "  </thead>\n",
       "  <tbody>\n",
       "    <tr>\n",
       "      <th>1329</th>\n",
       "      <td>train_barishal (275).wav</td>\n",
       "      <td>..</td>\n",
       "      <td>/kaggle/input/ben10/ben10/16_kHz_train_audio/t...</td>\n",
       "      <td>barishal</td>\n",
       "      <td>train</td>\n",
       "    </tr>\n",
       "    <tr>\n",
       "      <th>1331</th>\n",
       "      <td>train_barishal (277).wav</td>\n",
       "      <td>..</td>\n",
       "      <td>/kaggle/input/ben10/ben10/16_kHz_train_audio/t...</td>\n",
       "      <td>barishal</td>\n",
       "      <td>train</td>\n",
       "    </tr>\n",
       "    <tr>\n",
       "      <th>1338</th>\n",
       "      <td>train_barishal (284).wav</td>\n",
       "      <td>..</td>\n",
       "      <td>/kaggle/input/ben10/ben10/16_kHz_train_audio/t...</td>\n",
       "      <td>barishal</td>\n",
       "      <td>train</td>\n",
       "    </tr>\n",
       "  </tbody>\n",
       "</table>\n",
       "</div>"
      ],
      "text/plain": [
       "                     file_name transcripts  \\\n",
       "1329  train_barishal (275).wav          ..   \n",
       "1331  train_barishal (277).wav          ..   \n",
       "1338  train_barishal (284).wav          ..   \n",
       "\n",
       "                                              file_path  district  split  \n",
       "1329  /kaggle/input/ben10/ben10/16_kHz_train_audio/t...  barishal  train  \n",
       "1331  /kaggle/input/ben10/ben10/16_kHz_train_audio/t...  barishal  train  \n",
       "1338  /kaggle/input/ben10/ben10/16_kHz_train_audio/t...  barishal  train  "
      ]
     },
     "execution_count": 10,
     "metadata": {},
     "output_type": "execute_result"
    }
   ],
   "source": [
    "data[data[\"transcripts\"] == \"..\"]"
   ]
  },
  {
   "cell_type": "markdown",
   "id": "ebdb2388",
   "metadata": {
    "papermill": {
     "duration": 0.018273,
     "end_time": "2024-04-23T07:49:14.659149",
     "exception": false,
     "start_time": "2024-04-23T07:49:14.640876",
     "status": "completed"
    },
    "tags": []
   },
   "source": [
    "**NOTE:** Think of how you want use the existing models/your finetuned model to replace these examples.... For now let's just handle them."
   ]
  },
  {
   "cell_type": "code",
   "execution_count": 11,
   "id": "4263dacd",
   "metadata": {
    "execution": {
     "iopub.execute_input": "2024-04-23T07:49:14.700722Z",
     "iopub.status.busy": "2024-04-23T07:49:14.700022Z",
     "iopub.status.idle": "2024-04-23T07:49:14.732257Z",
     "shell.execute_reply": "2024-04-23T07:49:14.731392Z"
    },
    "papermill": {
     "duration": 0.055484,
     "end_time": "2024-04-23T07:49:14.734675",
     "exception": false,
     "start_time": "2024-04-23T07:49:14.679191",
     "status": "completed"
    },
    "tags": []
   },
   "outputs": [],
   "source": [
    "# print(list(data[data['transcripts'] == ''].index))\n",
    "data.drop(data[data['transcripts'] == ''].index, inplace=True)\n",
    "      \n",
    "# print(list(data[data['transcripts'] == '<>'].index))\n",
    "data.drop(data[data['transcripts'] == \"<>\"].index, inplace=True)\n",
    "      \n",
    "# print(list(data[data['transcripts'] == '..'].index))\n",
    "data.drop(data[data['transcripts'] == \"..\"].index, inplace=True)"
   ]
  },
  {
   "cell_type": "code",
   "execution_count": 12,
   "id": "e0c1cdee",
   "metadata": {
    "execution": {
     "iopub.execute_input": "2024-04-23T07:49:14.771514Z",
     "iopub.status.busy": "2024-04-23T07:49:14.771157Z",
     "iopub.status.idle": "2024-04-23T07:49:14.782829Z",
     "shell.execute_reply": "2024-04-23T07:49:14.781932Z"
    },
    "papermill": {
     "duration": 0.032325,
     "end_time": "2024-04-23T07:49:14.784968",
     "exception": false,
     "start_time": "2024-04-23T07:49:14.752643",
     "status": "completed"
    },
    "tags": []
   },
   "outputs": [],
   "source": [
    "data[\"transcripts\"] = data[\"transcripts\"].str.strip()"
   ]
  },
  {
   "cell_type": "code",
   "execution_count": 13,
   "id": "e93842a5",
   "metadata": {
    "execution": {
     "iopub.execute_input": "2024-04-23T07:49:14.819263Z",
     "iopub.status.busy": "2024-04-23T07:49:14.818937Z",
     "iopub.status.idle": "2024-04-23T07:49:14.823403Z",
     "shell.execute_reply": "2024-04-23T07:49:14.822540Z"
    },
    "papermill": {
     "duration": 0.023801,
     "end_time": "2024-04-23T07:49:14.825233",
     "exception": false,
     "start_time": "2024-04-23T07:49:14.801432",
     "status": "completed"
    },
    "tags": []
   },
   "outputs": [],
   "source": [
    "# # remove punctuations\n",
    "# punctuations = [\n",
    "#     \"/::\\)\",\"/::\",\"(-_-)\",\"(*_*)\",\"(>_<)\",\":)\",\";)\",\":P\",\"xD\",\"-_-\",\"*_*\",\"(>_<)\",\"...\",\".\",\",\",\";\",\":\",\"!\",\"?\",\"'\",\"অ�\", \"অাবার\", \"।\"\n",
    "#     \"\\\"\",\"-\",\"_\",\"/\",\"\\\\\",\"|\",\"{\",\"}\",\"[\",\"]\",\"(\",\")\",\"<\",\">\",\"@\",\"#\",\"$\",\"%\",\"^\",\"&\",\"*\",\"~\",\"`\",\"+\",\"=\",\"0\",\"1\",\"2\",\"3\",\"4\",\"5\",\"6\",\"7\",\"8\",\"9\",\"৳\",\"০\",\n",
    "#     \"১\",\"২\",\"৩\",\"৪\",\"৫\",\"৬\",\"৭\",\"৮\",\"৯\",\"\\n\",\"\\t\",\"\\r\",\"\\f\",\"\\v\",\"\\u00C0-\\u017F\",\"\\u2000-\\u206F\",\"\\u25A0-\\u25FF\",\"\\u2600-\\u26FF\",\"\\u2B00-\\u2BFF\",\"\\u3000-\\u303F\",\n",
    "#     \"\\uFB00-\\uFB4F\",\"\\uFE00-\\uFE0F\",\"\\uFE30-\\uFE4F\",\"\\u1F600-\\u1F64F\",\"\\u1F300-\\u1F5FF\",\"\\u1F680-\\u1F6FF\",\"\\u1F1E0-\\u1F1FF\",\"\\u2600-\\u26FF\",\"\\u2700-\\u27BF\",\n",
    "#     \"\\u1F300-\\u1F5FF\",\"\\u1F900-\\u1F9FF\",\"\\u1F600-\\u1F64F\",\"\\u1F680-\\u1F6FF\",\"\\u1F1E0-\\u1F1FF\",\"\\u1F600-\\u1F64F\",\n",
    "# ]"
   ]
  },
  {
   "cell_type": "code",
   "execution_count": 14,
   "id": "f00c1e66",
   "metadata": {
    "execution": {
     "iopub.execute_input": "2024-04-23T07:49:14.860808Z",
     "iopub.status.busy": "2024-04-23T07:49:14.860504Z",
     "iopub.status.idle": "2024-04-23T07:49:14.864717Z",
     "shell.execute_reply": "2024-04-23T07:49:14.863904Z"
    },
    "papermill": {
     "duration": 0.024654,
     "end_time": "2024-04-23T07:49:14.866574",
     "exception": false,
     "start_time": "2024-04-23T07:49:14.841920",
     "status": "completed"
    },
    "tags": []
   },
   "outputs": [],
   "source": [
    "# def remove_punctuations(text):\n",
    "#     for punctuation in punctuations:\n",
    "#         text = text.replace(punctuation, \"\")\n",
    "#     return text\n",
    "\n",
    "# # Apply the function to the 'transcript' column\n",
    "# data['transcripts'] = data['transcripts'].apply(remove_punctuations)"
   ]
  },
  {
   "cell_type": "code",
   "execution_count": null,
   "id": "4a487f93",
   "metadata": {
    "papermill": {
     "duration": 0.067257,
     "end_time": "2024-04-23T07:49:14.951506",
     "exception": false,
     "start_time": "2024-04-23T07:49:14.884249",
     "status": "completed"
    },
    "tags": []
   },
   "outputs": [],
   "source": []
  },
  {
   "cell_type": "code",
   "execution_count": 15,
   "id": "be5650c3",
   "metadata": {
    "execution": {
     "iopub.execute_input": "2024-04-23T07:49:14.993143Z",
     "iopub.status.busy": "2024-04-23T07:49:14.992234Z",
     "iopub.status.idle": "2024-04-23T07:49:15.213063Z",
     "shell.execute_reply": "2024-04-23T07:49:15.212231Z"
    },
    "papermill": {
     "duration": 0.244345,
     "end_time": "2024-04-23T07:49:15.215378",
     "exception": false,
     "start_time": "2024-04-23T07:49:14.971033",
     "status": "completed"
    },
    "tags": []
   },
   "outputs": [],
   "source": [
    "import re\n",
    "def remove_emoji(text):\n",
    "    emoji_pattern = re.compile(\n",
    "        \"[\"u\"\\U0001F600-\\U0001F64F\"  # emoticons\n",
    "        u\"\\U0001F300-\\U0001F5FF\"  # symbols & pictographs\n",
    "        u\"\\U0001F680-\\U0001F6FF\"  # transport & map symbols\n",
    "        u\"\\U0001F1E0-\\U0001F1FF\"  # flags (iOS)\n",
    "        u\"\\U00002702-\\U000027B0\"\n",
    "        u\"\\U000024C2-\\U0001F251\"\n",
    "        \"]+\",\n",
    "        flags=re.UNICODE,\n",
    "    )\n",
    "    return emoji_pattern.sub(r\"\", text)\n",
    "\n",
    "# Apply the remove_emoji function to the 'Description' column\n",
    "data['transcripts'] = data['transcripts'].apply(remove_emoji)\n"
   ]
  },
  {
   "cell_type": "code",
   "execution_count": 16,
   "id": "e173bf92",
   "metadata": {
    "execution": {
     "iopub.execute_input": "2024-04-23T07:49:15.251383Z",
     "iopub.status.busy": "2024-04-23T07:49:15.250775Z",
     "iopub.status.idle": "2024-04-23T07:49:15.722233Z",
     "shell.execute_reply": "2024-04-23T07:49:15.721415Z"
    },
    "papermill": {
     "duration": 0.491255,
     "end_time": "2024-04-23T07:49:15.724563",
     "exception": false,
     "start_time": "2024-04-23T07:49:15.233308",
     "status": "completed"
    },
    "tags": []
   },
   "outputs": [],
   "source": [
    "def remove_extra_space(text):\n",
    "    text = re.sub(r\"[a-zA-Z]+\", \"\", text)\n",
    "    text = re.sub(r\"\\s+\", \" \", text)\n",
    "    return text\n",
    "\n",
    "data['transcripts'] = data['transcripts'].apply(remove_extra_space)"
   ]
  },
  {
   "cell_type": "code",
   "execution_count": 17,
   "id": "3cdac54a",
   "metadata": {
    "execution": {
     "iopub.execute_input": "2024-04-23T07:49:15.760942Z",
     "iopub.status.busy": "2024-04-23T07:49:15.760113Z",
     "iopub.status.idle": "2024-04-23T07:49:16.070694Z",
     "shell.execute_reply": "2024-04-23T07:49:16.069883Z"
    },
    "papermill": {
     "duration": 0.331579,
     "end_time": "2024-04-23T07:49:16.073145",
     "exception": false,
     "start_time": "2024-04-23T07:49:15.741566",
     "status": "completed"
    },
    "tags": []
   },
   "outputs": [],
   "source": [
    "def remove_extra(text):\n",
    "    text = re.sub(r\"\\s+\", \" \", text)\n",
    "    return text\n",
    "\n",
    "data['transcripts'] = data['transcripts'].apply(remove_extra)"
   ]
  },
  {
   "cell_type": "code",
   "execution_count": 18,
   "id": "4bee3829",
   "metadata": {
    "execution": {
     "iopub.execute_input": "2024-04-23T07:49:16.107900Z",
     "iopub.status.busy": "2024-04-23T07:49:16.107556Z",
     "iopub.status.idle": "2024-04-23T07:49:16.117411Z",
     "shell.execute_reply": "2024-04-23T07:49:16.116458Z"
    },
    "papermill": {
     "duration": 0.029372,
     "end_time": "2024-04-23T07:49:16.119289",
     "exception": false,
     "start_time": "2024-04-23T07:49:16.089917",
     "status": "completed"
    },
    "tags": []
   },
   "outputs": [
    {
     "data": {
      "text/plain": [
       "5120     <> ধর এ অইলো অইলে, লাভ অইলো অইলে, লাভ অইলো অইল...\n",
       "621      ঘাডার আগে আইলের কোরে কোরে কোরেত্তে আমরা টানি-ট...\n",
       "11474    আর বনির বাড়ি যাই। ওহ। আর <> নায়। ড্রাগোর অনো খ...\n",
       "8947     হ, যায়া নিয়ে আসছে? হুম, তা ছোট ছাওয়াক যে আনসে ...\n",
       "5321     সত্ত মিত্তা টিকাছে? এই যে <> টিকাছে? এ লং টাইম...\n",
       "6990     ওই ইসের ডেটা কালেকশনের ওই কাজডা ভাবলাম যাই উনা...\n",
       "4523     অহন এই যে কি ইয়া তর ইস্কুল না বন্দ আছিন? হ। অহ...\n",
       "332      টিয়ারে টিয়া কইতো না হিয়ার যা মন চাইতো হিয়া কইত...\n",
       "2779     আঁর লাই দোয়া গরিবু বা খোনো সময়ত আঁরে হেল্প গরি...\n",
       "8142     পইল্লা ছয় ওভারে খেলা দিছে। ছয় ওভারে রান টার্গে...\n",
       "2353     <> বউত আগরতুন বিয়া গইজজে। ইবা যহন আই জাইননি, এ...\n",
       "8666     কী অবস্তা আল আমিন ভাই, কেমন আছেন? আচ্ছা ভাই ঠি...\n",
       "887      মাইজ্জাগার বৌ যেগিন করে, কার কার? ওরে বাপরে বা...\n",
       "12017    <> তারার লাগিও ইটা পারফেক্ট। ইনো ইনো আর মানে আ...\n",
       "5065     <> বছর যে কিভাবে যায়গা টেরো ফাইতা না, <> বিদেশ...\n",
       "8478     টেনশন কিলিগা? পরীক্ষার। ইমুন পরীক্ষার যাগাত গি...\n",
       "9640     অনেক বালো সাইট মানে কুনু ঝায়-ঝামেলা নাই, কুনু ...\n",
       "9955     <> আর এখানে কি বাইয়ের চাখরির লাইগ্গা থাকা? না,...\n",
       "10168    ভাই, কিলাখান দিনখাল যার, কিলা খরো না খরো খাম-খ...\n",
       "12905    হুম। ইড্ডা এইডা আবার পিচ্চিও গরে দিয়ে কতা কয়। ...\n",
       "Name: transcripts, dtype: object"
      ]
     },
     "execution_count": 18,
     "metadata": {},
     "output_type": "execute_result"
    }
   ],
   "source": [
    "data.transcripts.sample(20)"
   ]
  },
  {
   "cell_type": "code",
   "execution_count": 19,
   "id": "e2606cf5",
   "metadata": {
    "execution": {
     "iopub.execute_input": "2024-04-23T07:49:16.154568Z",
     "iopub.status.busy": "2024-04-23T07:49:16.153879Z",
     "iopub.status.idle": "2024-04-23T07:49:16.160089Z",
     "shell.execute_reply": "2024-04-23T07:49:16.159246Z"
    },
    "papermill": {
     "duration": 0.025904,
     "end_time": "2024-04-23T07:49:16.161959",
     "exception": false,
     "start_time": "2024-04-23T07:49:16.136055",
     "status": "completed"
    },
    "tags": []
   },
   "outputs": [
    {
     "data": {
      "text/plain": [
       "'পাঁচ দশমিক চার শূন্য পার্সেন অইছে হিন্দু। বৌদ্ধ আছে শূন্য দশমিক শূন্য এক পার্সেন। খ্রিস্টানও আছে কিছু, শূন্য দশমিক শূন্য তিন পার্সেন। আর অন্যান্য কিছু ধর্মের অনুসারী আছে শূন্য দশমিক শূন্য ছয়।'"
      ]
     },
     "execution_count": 19,
     "metadata": {},
     "output_type": "execute_result"
    }
   ],
   "source": [
    "data.transcripts[7693]"
   ]
  },
  {
   "cell_type": "code",
   "execution_count": 20,
   "id": "0c8900fb",
   "metadata": {
    "execution": {
     "iopub.execute_input": "2024-04-23T07:49:16.197285Z",
     "iopub.status.busy": "2024-04-23T07:49:16.196935Z",
     "iopub.status.idle": "2024-04-23T07:49:16.201320Z",
     "shell.execute_reply": "2024-04-23T07:49:16.200400Z"
    },
    "papermill": {
     "duration": 0.024405,
     "end_time": "2024-04-23T07:49:16.203294",
     "exception": false,
     "start_time": "2024-04-23T07:49:16.178889",
     "status": "completed"
    },
    "tags": []
   },
   "outputs": [],
   "source": [
    "TASK = \"transcribe\"\n",
    "MODEL_NAME = \"arif11/bangla-ASR-v7\"\n",
    "MODEL_PATH = \"/kaggle/input/asr-v16/whisper-reg-ben\""
   ]
  },
  {
   "cell_type": "code",
   "execution_count": 21,
   "id": "386f7ebd",
   "metadata": {
    "execution": {
     "iopub.execute_input": "2024-04-23T07:49:16.238303Z",
     "iopub.status.busy": "2024-04-23T07:49:16.238007Z",
     "iopub.status.idle": "2024-04-23T07:49:17.468710Z",
     "shell.execute_reply": "2024-04-23T07:49:17.467901Z"
    },
    "papermill": {
     "duration": 1.250524,
     "end_time": "2024-04-23T07:49:17.470972",
     "exception": false,
     "start_time": "2024-04-23T07:49:16.220448",
     "status": "completed"
    },
    "tags": []
   },
   "outputs": [
    {
     "name": "stderr",
     "output_type": "stream",
     "text": [
      "Special tokens have been added in the vocabulary, make sure the associated word embeddings are fine-tuned or trained.\n",
      "Special tokens have been added in the vocabulary, make sure the associated word embeddings are fine-tuned or trained.\n"
     ]
    }
   ],
   "source": [
    "feature_extractor = WhisperFeatureExtractor.from_pretrained(MODEL_PATH)\n",
    "tokenizer = WhisperTokenizer.from_pretrained(MODEL_PATH, language='bn', task=TASK)\n",
    "processor = WhisperProcessor.from_pretrained(MODEL_PATH, language='bn', task=TASK)"
   ]
  },
  {
   "cell_type": "code",
   "execution_count": 22,
   "id": "3bc6ec78",
   "metadata": {
    "execution": {
     "iopub.execute_input": "2024-04-23T07:49:17.506918Z",
     "iopub.status.busy": "2024-04-23T07:49:17.506596Z",
     "iopub.status.idle": "2024-04-23T07:49:17.513116Z",
     "shell.execute_reply": "2024-04-23T07:49:17.512264Z"
    },
    "papermill": {
     "duration": 0.026568,
     "end_time": "2024-04-23T07:49:17.515044",
     "exception": false,
     "start_time": "2024-04-23T07:49:17.488476",
     "status": "completed"
    },
    "tags": []
   },
   "outputs": [
    {
     "data": {
      "text/plain": [
       "[50258, 50302, 50359, 50363, 50257]"
      ]
     },
     "execution_count": 22,
     "metadata": {},
     "output_type": "execute_result"
    }
   ],
   "source": [
    "ids = tokenizer.encode(\"\")\n",
    "ids"
   ]
  },
  {
   "cell_type": "code",
   "execution_count": 23,
   "id": "85849b2a",
   "metadata": {
    "execution": {
     "iopub.execute_input": "2024-04-23T07:49:17.550733Z",
     "iopub.status.busy": "2024-04-23T07:49:17.550429Z",
     "iopub.status.idle": "2024-04-23T07:49:17.563525Z",
     "shell.execute_reply": "2024-04-23T07:49:17.562661Z"
    },
    "papermill": {
     "duration": 0.032921,
     "end_time": "2024-04-23T07:49:17.565336",
     "exception": false,
     "start_time": "2024-04-23T07:49:17.532415",
     "status": "completed"
    },
    "tags": []
   },
   "outputs": [
    {
     "data": {
      "text/plain": [
       "'<|startoftranscript|><|bn|><|transcribe|><|notimestamps|><|endoftext|>'"
      ]
     },
     "execution_count": 23,
     "metadata": {},
     "output_type": "execute_result"
    }
   ],
   "source": [
    "tokenizer.decode(ids)"
   ]
  },
  {
   "cell_type": "code",
   "execution_count": 24,
   "id": "ab110f98",
   "metadata": {
    "execution": {
     "iopub.execute_input": "2024-04-23T07:49:17.601723Z",
     "iopub.status.busy": "2024-04-23T07:49:17.600979Z",
     "iopub.status.idle": "2024-04-23T07:49:17.610326Z",
     "shell.execute_reply": "2024-04-23T07:49:17.609463Z"
    },
    "papermill": {
     "duration": 0.029668,
     "end_time": "2024-04-23T07:49:17.612263",
     "exception": false,
     "start_time": "2024-04-23T07:49:17.582595",
     "status": "completed"
    },
    "tags": []
   },
   "outputs": [],
   "source": [
    "@dataclass\n",
    "class DataCollatorSpeechSeq2SeqWithPadding:\n",
    "    processor: Any\n",
    "\n",
    "    def __call__(self, features: List[Dict[str, Union[List[int], torch.Tensor]]]) -> Dict[str, torch.Tensor]:\n",
    "        # split inputs and labels since they have to be of different lengths and need different padding methods\n",
    "        # first treat the audio inputs by simply returning torch tensors\n",
    "        input_features = [{\"input_features\": feature[\"input_features\"]} for feature in features]\n",
    "        batch = self.processor.feature_extractor.pad(input_features, return_tensors=\"pt\")\n",
    "\n",
    "        # get the tokenized label sequences\n",
    "        label_features = [{\"input_ids\": feature[\"labels\"]} for feature in features]\n",
    "        # pad the labels to max length\n",
    "        labels_batch = self.processor.tokenizer.pad(label_features, return_tensors=\"pt\")\n",
    "\n",
    "        # replace padding with -100 to ignore loss correctly\n",
    "        labels = labels_batch[\"input_ids\"].masked_fill(labels_batch.attention_mask.ne(1), -100)\n",
    "\n",
    "        # if bos token is appended in previous tokenization step,\n",
    "        # cut bos token here as it's append later anyways\n",
    "        if (labels[:, 0] == self.processor.tokenizer.bos_token_id).all().cpu().item():\n",
    "            labels = labels[:, 1:]\n",
    "\n",
    "        batch[\"labels\"] = labels\n",
    "        \n",
    "        torch.cuda.empty_cache()\n",
    "\n",
    "        return batch"
   ]
  },
  {
   "cell_type": "code",
   "execution_count": 25,
   "id": "08d20c87",
   "metadata": {
    "execution": {
     "iopub.execute_input": "2024-04-23T07:49:17.649102Z",
     "iopub.status.busy": "2024-04-23T07:49:17.648446Z",
     "iopub.status.idle": "2024-04-23T07:49:17.652862Z",
     "shell.execute_reply": "2024-04-23T07:49:17.651986Z"
    },
    "papermill": {
     "duration": 0.025181,
     "end_time": "2024-04-23T07:49:17.654808",
     "exception": false,
     "start_time": "2024-04-23T07:49:17.629627",
     "status": "completed"
    },
    "tags": []
   },
   "outputs": [],
   "source": [
    "data_collator = DataCollatorSpeechSeq2SeqWithPadding(processor=processor)"
   ]
  },
  {
   "cell_type": "code",
   "execution_count": 26,
   "id": "db6f5db2",
   "metadata": {
    "execution": {
     "iopub.execute_input": "2024-04-23T07:49:17.691193Z",
     "iopub.status.busy": "2024-04-23T07:49:17.690585Z",
     "iopub.status.idle": "2024-04-23T07:49:17.697648Z",
     "shell.execute_reply": "2024-04-23T07:49:17.696751Z"
    },
    "papermill": {
     "duration": 0.027522,
     "end_time": "2024-04-23T07:49:17.699549",
     "exception": false,
     "start_time": "2024-04-23T07:49:17.672027",
     "status": "completed"
    },
    "tags": []
   },
   "outputs": [],
   "source": [
    "def prepare_dataset(example):\n",
    "    audio_path = example[\"file_path\"]\n",
    "    \n",
    "    # load the audio using librosa or torch audio (as you wish)\n",
    "    audio, sr = librosa.load(audio_path, sr=16_000)\n",
    "    \n",
    "    example[\"input_features\"] = feature_extractor(audio, sampling_rate=sr).input_features[0]\n",
    "    \n",
    "    example[\"labels\"] = tokenizer(f\"{example['transcripts']}\", max_length=448, padding=True, truncation=True).input_ids\n",
    "    \n",
    "    return example\n",
    "\n",
    "\n",
    "def filter_inputs(input_audio):\n",
    "    \"\"\"filter inputs with zero input length\"\"\"\n",
    "    return 0 < len(input_audio)\n",
    "\n",
    "\n",
    "def filter_labels(input_labels):\n",
    "    \"\"\"filter empty label sequences\"\"\"\n",
    "    return 0 < len(input_labels)"
   ]
  },
  {
   "cell_type": "code",
   "execution_count": 27,
   "id": "9f2a2c9e",
   "metadata": {
    "execution": {
     "iopub.execute_input": "2024-04-23T07:49:17.736388Z",
     "iopub.status.busy": "2024-04-23T07:49:17.736031Z",
     "iopub.status.idle": "2024-04-23T07:49:17.749928Z",
     "shell.execute_reply": "2024-04-23T07:49:17.749005Z"
    },
    "papermill": {
     "duration": 0.034754,
     "end_time": "2024-04-23T07:49:17.752000",
     "exception": false,
     "start_time": "2024-04-23T07:49:17.717246",
     "status": "completed"
    },
    "tags": []
   },
   "outputs": [],
   "source": [
    "train_df = data[data[\"split\"] == \"train\"]"
   ]
  },
  {
   "cell_type": "code",
   "execution_count": 28,
   "id": "2fb0b744",
   "metadata": {
    "execution": {
     "iopub.execute_input": "2024-04-23T07:49:17.788456Z",
     "iopub.status.busy": "2024-04-23T07:49:17.788101Z",
     "iopub.status.idle": "2024-04-23T07:49:17.798102Z",
     "shell.execute_reply": "2024-04-23T07:49:17.797386Z"
    },
    "papermill": {
     "duration": 0.030431,
     "end_time": "2024-04-23T07:49:17.800043",
     "exception": false,
     "start_time": "2024-04-23T07:49:17.769612",
     "status": "completed"
    },
    "tags": []
   },
   "outputs": [],
   "source": [
    "\"\"\"\n",
    "    adjust test size accordingly.\n",
    "\"\"\"\n",
    "train_df, eval_df = train_test_split(train_df, test_size=0.20, shuffle=True)"
   ]
  },
  {
   "cell_type": "code",
   "execution_count": 29,
   "id": "9f49bb42",
   "metadata": {
    "execution": {
     "iopub.execute_input": "2024-04-23T07:49:17.836958Z",
     "iopub.status.busy": "2024-04-23T07:49:17.836148Z",
     "iopub.status.idle": "2024-04-23T07:49:17.842115Z",
     "shell.execute_reply": "2024-04-23T07:49:17.841229Z"
    },
    "papermill": {
     "duration": 0.026434,
     "end_time": "2024-04-23T07:49:17.844015",
     "exception": false,
     "start_time": "2024-04-23T07:49:17.817581",
     "status": "completed"
    },
    "tags": []
   },
   "outputs": [
    {
     "data": {
      "text/plain": [
       "(10785, 2697)"
      ]
     },
     "execution_count": 29,
     "metadata": {},
     "output_type": "execute_result"
    }
   ],
   "source": [
    "len(train_df), len(eval_df)"
   ]
  },
  {
   "cell_type": "code",
   "execution_count": 30,
   "id": "4211fc2e",
   "metadata": {
    "execution": {
     "iopub.execute_input": "2024-04-23T07:49:17.880916Z",
     "iopub.status.busy": "2024-04-23T07:49:17.880116Z",
     "iopub.status.idle": "2024-04-23T07:49:17.943660Z",
     "shell.execute_reply": "2024-04-23T07:49:17.942880Z"
    },
    "papermill": {
     "duration": 0.084493,
     "end_time": "2024-04-23T07:49:17.946050",
     "exception": false,
     "start_time": "2024-04-23T07:49:17.861557",
     "status": "completed"
    },
    "tags": []
   },
   "outputs": [],
   "source": [
    "ben_reg_voice_ds = DatasetDict()\n",
    "\n",
    "train_split = DS.from_pandas(train_df)\n",
    "eval_split = DS.from_pandas(eval_df)\n",
    "\n",
    "ds_splits = DatasetDict({\n",
    "    'train': train_split,\n",
    "    'eval': eval_split\n",
    "})"
   ]
  },
  {
   "cell_type": "code",
   "execution_count": 31,
   "id": "850acaf9",
   "metadata": {
    "execution": {
     "iopub.execute_input": "2024-04-23T07:49:17.983769Z",
     "iopub.status.busy": "2024-04-23T07:49:17.983425Z",
     "iopub.status.idle": "2024-04-23T07:49:17.990889Z",
     "shell.execute_reply": "2024-04-23T07:49:17.989963Z"
    },
    "papermill": {
     "duration": 0.028577,
     "end_time": "2024-04-23T07:49:17.992909",
     "exception": false,
     "start_time": "2024-04-23T07:49:17.964332",
     "status": "completed"
    },
    "tags": []
   },
   "outputs": [],
   "source": [
    "ds_splits = ds_splits.remove_columns([\"split\"])"
   ]
  },
  {
   "cell_type": "code",
   "execution_count": 32,
   "id": "19fbe07b",
   "metadata": {
    "execution": {
     "iopub.execute_input": "2024-04-23T07:49:18.030515Z",
     "iopub.status.busy": "2024-04-23T07:49:18.029829Z",
     "iopub.status.idle": "2024-04-23T07:49:18.034320Z",
     "shell.execute_reply": "2024-04-23T07:49:18.033375Z"
    },
    "papermill": {
     "duration": 0.025619,
     "end_time": "2024-04-23T07:49:18.036987",
     "exception": false,
     "start_time": "2024-04-23T07:49:18.011368",
     "status": "completed"
    },
    "tags": []
   },
   "outputs": [
    {
     "name": "stdout",
     "output_type": "stream",
     "text": [
      "DatasetDict({\n",
      "    train: Dataset({\n",
      "        features: ['file_name', 'transcripts', 'file_path', 'district', '__index_level_0__'],\n",
      "        num_rows: 10785\n",
      "    })\n",
      "    eval: Dataset({\n",
      "        features: ['file_name', 'transcripts', 'file_path', 'district', '__index_level_0__'],\n",
      "        num_rows: 2697\n",
      "    })\n",
      "})\n"
     ]
    }
   ],
   "source": [
    "print(ds_splits)"
   ]
  },
  {
   "cell_type": "code",
   "execution_count": 33,
   "id": "19c49afa",
   "metadata": {
    "execution": {
     "iopub.execute_input": "2024-04-23T07:49:18.073754Z",
     "iopub.status.busy": "2024-04-23T07:49:18.073463Z",
     "iopub.status.idle": "2024-04-23T07:49:18.077432Z",
     "shell.execute_reply": "2024-04-23T07:49:18.076578Z"
    },
    "papermill": {
     "duration": 0.024879,
     "end_time": "2024-04-23T07:49:18.079421",
     "exception": false,
     "start_time": "2024-04-23T07:49:18.054542",
     "status": "completed"
    },
    "tags": []
   },
   "outputs": [],
   "source": [
    "np.object = object"
   ]
  },
  {
   "cell_type": "code",
   "execution_count": 34,
   "id": "024974ae",
   "metadata": {
    "execution": {
     "iopub.execute_input": "2024-04-23T07:49:18.116272Z",
     "iopub.status.busy": "2024-04-23T07:49:18.115568Z",
     "iopub.status.idle": "2024-04-23T07:58:13.719984Z",
     "shell.execute_reply": "2024-04-23T07:58:13.719144Z"
    },
    "papermill": {
     "duration": 535.625139,
     "end_time": "2024-04-23T07:58:13.722242",
     "exception": false,
     "start_time": "2024-04-23T07:49:18.097103",
     "status": "completed"
    },
    "tags": []
   },
   "outputs": [
    {
     "data": {
      "application/vnd.jupyter.widget-view+json": {
       "model_id": "ef2d1a690ab74814b96f7a66ec187548",
       "version_major": 2,
       "version_minor": 0
      },
      "text/plain": [
       "  0%|          | 0/10785 [00:00<?, ?ex/s]"
      ]
     },
     "metadata": {},
     "output_type": "display_data"
    },
    {
     "data": {
      "application/vnd.jupyter.widget-view+json": {
       "model_id": "5bb40a2b3ef648ef97bed1ec4b63b2c2",
       "version_major": 2,
       "version_minor": 0
      },
      "text/plain": [
       "  0%|          | 0/2697 [00:00<?, ?ex/s]"
      ]
     },
     "metadata": {},
     "output_type": "display_data"
    }
   ],
   "source": [
    "ds_splits = ds_splits.map(prepare_dataset, remove_columns=ds_splits.column_names[\"train\"] # open for multithreadding\n",
    ")"
   ]
  },
  {
   "cell_type": "code",
   "execution_count": 35,
   "id": "612b1eba",
   "metadata": {
    "execution": {
     "iopub.execute_input": "2024-04-23T07:58:13.761122Z",
     "iopub.status.busy": "2024-04-23T07:58:13.760068Z",
     "iopub.status.idle": "2024-04-23T07:58:13.764318Z",
     "shell.execute_reply": "2024-04-23T07:58:13.763510Z"
    },
    "papermill": {
     "duration": 0.025153,
     "end_time": "2024-04-23T07:58:13.766252",
     "exception": false,
     "start_time": "2024-04-23T07:58:13.741099",
     "status": "completed"
    },
    "tags": []
   },
   "outputs": [],
   "source": [
    "# ds_splits = ds_splits.filter(filter_inputs, input_columns=[\"input_features\"])\n",
    "# ds_splits = ds_splits.filter(filter_labels, input_columns=[\"labels\"])"
   ]
  },
  {
   "cell_type": "code",
   "execution_count": 36,
   "id": "d04a54c5",
   "metadata": {
    "execution": {
     "iopub.execute_input": "2024-04-23T07:58:13.804097Z",
     "iopub.status.busy": "2024-04-23T07:58:13.803788Z",
     "iopub.status.idle": "2024-04-23T07:58:13.809886Z",
     "shell.execute_reply": "2024-04-23T07:58:13.809060Z"
    },
    "papermill": {
     "duration": 0.026748,
     "end_time": "2024-04-23T07:58:13.811744",
     "exception": false,
     "start_time": "2024-04-23T07:58:13.784996",
     "status": "completed"
    },
    "tags": []
   },
   "outputs": [
    {
     "data": {
      "text/plain": [
       "(10785, 2697)"
      ]
     },
     "execution_count": 36,
     "metadata": {},
     "output_type": "execute_result"
    }
   ],
   "source": [
    "len(ds_splits[\"train\"]), len(ds_splits[\"eval\"])"
   ]
  },
  {
   "cell_type": "code",
   "execution_count": 37,
   "id": "020b8bf9",
   "metadata": {
    "execution": {
     "iopub.execute_input": "2024-04-23T07:58:13.848409Z",
     "iopub.status.busy": "2024-04-23T07:58:13.847901Z",
     "iopub.status.idle": "2024-04-23T07:58:13.857616Z",
     "shell.execute_reply": "2024-04-23T07:58:13.856908Z"
    },
    "papermill": {
     "duration": 0.030002,
     "end_time": "2024-04-23T07:58:13.859398",
     "exception": false,
     "start_time": "2024-04-23T07:58:13.829396",
     "status": "completed"
    },
    "tags": []
   },
   "outputs": [],
   "source": [
    "cer = CharErrorRate()\n",
    "wer = WordErrorRate()"
   ]
  },
  {
   "cell_type": "code",
   "execution_count": 38,
   "id": "28fe495e",
   "metadata": {
    "execution": {
     "iopub.execute_input": "2024-04-23T07:58:13.895926Z",
     "iopub.status.busy": "2024-04-23T07:58:13.895645Z",
     "iopub.status.idle": "2024-04-23T07:58:13.901960Z",
     "shell.execute_reply": "2024-04-23T07:58:13.901099Z"
    },
    "papermill": {
     "duration": 0.026864,
     "end_time": "2024-04-23T07:58:13.903815",
     "exception": false,
     "start_time": "2024-04-23T07:58:13.876951",
     "status": "completed"
    },
    "tags": []
   },
   "outputs": [],
   "source": [
    "def compute_metrics(pred):\n",
    "    pred_ids = pred.predictions\n",
    "    label_ids = pred.label_ids\n",
    "\n",
    "    label_ids[label_ids == -100] = tokenizer.pad_token_id\n",
    "\n",
    "    pred_str = tokenizer.batch_decode(pred_ids, skip_special_tokens=True)\n",
    "    label_str = tokenizer.batch_decode(label_ids, skip_special_tokens=True)\n",
    "\n",
    "    wer_res = wer(pred_str, label_str)\n",
    "    cer_res = cer(pred_str, label_str)\n",
    "    \n",
    "    \"\"\"\n",
    "        uncomment the next 3 lines if you want to see how the examples look like during eval \n",
    "    \"\"\"\n",
    "    print(\"WER:\",wer_res,\"| CER:\", cer_res) # to show up during running logs\n",
    "    print(\"Pred:\",pred_str[0])\n",
    "    print(\"Label:\",label_str[0])\n",
    "    \n",
    "    return {\"wer\": wer_res, \"cer\": cer_res}"
   ]
  },
  {
   "cell_type": "code",
   "execution_count": 39,
   "id": "75ef528c",
   "metadata": {
    "execution": {
     "iopub.execute_input": "2024-04-23T07:58:13.940830Z",
     "iopub.status.busy": "2024-04-23T07:58:13.940527Z",
     "iopub.status.idle": "2024-04-23T07:58:32.382888Z",
     "shell.execute_reply": "2024-04-23T07:58:32.382076Z"
    },
    "papermill": {
     "duration": 18.463637,
     "end_time": "2024-04-23T07:58:32.385266",
     "exception": false,
     "start_time": "2024-04-23T07:58:13.921629",
     "status": "completed"
    },
    "tags": []
   },
   "outputs": [],
   "source": [
    "model = WhisperForConditionalGeneration.from_pretrained(MODEL_PATH, device_map=\"auto\")"
   ]
  },
  {
   "cell_type": "code",
   "execution_count": 40,
   "id": "ecd58d54",
   "metadata": {
    "execution": {
     "iopub.execute_input": "2024-04-23T07:58:32.423683Z",
     "iopub.status.busy": "2024-04-23T07:58:32.423009Z",
     "iopub.status.idle": "2024-04-23T07:58:32.427120Z",
     "shell.execute_reply": "2024-04-23T07:58:32.426296Z"
    },
    "papermill": {
     "duration": 0.025223,
     "end_time": "2024-04-23T07:58:32.429018",
     "exception": false,
     "start_time": "2024-04-23T07:58:32.403795",
     "status": "completed"
    },
    "tags": []
   },
   "outputs": [],
   "source": [
    "model_id = \"whisper-reg-ben\""
   ]
  },
  {
   "cell_type": "code",
   "execution_count": 41,
   "id": "10f66538",
   "metadata": {
    "execution": {
     "iopub.execute_input": "2024-04-23T07:58:32.467972Z",
     "iopub.status.busy": "2024-04-23T07:58:32.467340Z",
     "iopub.status.idle": "2024-04-23T07:58:32.474746Z",
     "shell.execute_reply": "2024-04-23T07:58:32.474066Z"
    },
    "papermill": {
     "duration": 0.028767,
     "end_time": "2024-04-23T07:58:32.476754",
     "exception": false,
     "start_time": "2024-04-23T07:58:32.447987",
     "status": "completed"
    },
    "tags": []
   },
   "outputs": [],
   "source": [
    "training_args = Seq2SeqTrainingArguments(\n",
    "    output_dir=model_id,\n",
    "    per_device_train_batch_size=4,\n",
    "    per_device_eval_batch_size=4,\n",
    "    gradient_accumulation_steps=1,\n",
    "    gradient_checkpointing=True,\n",
    "    fp16=True,\n",
    "    learning_rate=5e-5,\n",
    "    weight_decay=1e-2,\n",
    "    warmup_steps=100,\n",
    "    num_train_epochs=2,\n",
    "    evaluation_strategy=\"epoch\", # or \"epochs\"\n",
    "    save_strategy=\"epoch\",\n",
    "    predict_with_generate=True,\n",
    "    generation_max_length=448,\n",
    "#     save_steps=2976,\n",
    "#     eval_steps=32,\n",
    "#     logging_steps=1000,\n",
    "    save_total_limit=1,\n",
    "    load_best_model_at_end=True,\n",
    "    metric_for_best_model=\"wer\",\n",
    "    greater_is_better=False,\n",
    "    push_to_hub=False,\n",
    "    report_to=\"none\",\n",
    "    remove_unused_columns=False,\n",
    ")"
   ]
  },
  {
   "cell_type": "code",
   "execution_count": 42,
   "id": "4c8a2122",
   "metadata": {
    "execution": {
     "iopub.execute_input": "2024-04-23T07:58:32.514709Z",
     "iopub.status.busy": "2024-04-23T07:58:32.514027Z",
     "iopub.status.idle": "2024-04-23T07:58:32.518729Z",
     "shell.execute_reply": "2024-04-23T07:58:32.517861Z"
    },
    "papermill": {
     "duration": 0.025708,
     "end_time": "2024-04-23T07:58:32.520604",
     "exception": false,
     "start_time": "2024-04-23T07:58:32.494896",
     "status": "completed"
    },
    "tags": []
   },
   "outputs": [],
   "source": [
    "model.generation_config.language = \"bn\"\n",
    "model.generation_config.task = \"transcribe\"\n",
    "\n",
    "model.generation_config.forced_decoder_ids = None\n",
    "model.config.suppress_tokens = [] # added later"
   ]
  },
  {
   "cell_type": "code",
   "execution_count": 43,
   "id": "8024642d",
   "metadata": {
    "execution": {
     "iopub.execute_input": "2024-04-23T07:58:32.558779Z",
     "iopub.status.busy": "2024-04-23T07:58:32.558022Z",
     "iopub.status.idle": "2024-04-23T07:58:32.569055Z",
     "shell.execute_reply": "2024-04-23T07:58:32.568216Z"
    },
    "papermill": {
     "duration": 0.032504,
     "end_time": "2024-04-23T07:58:32.571068",
     "exception": false,
     "start_time": "2024-04-23T07:58:32.538564",
     "status": "completed"
    },
    "tags": []
   },
   "outputs": [
    {
     "name": "stderr",
     "output_type": "stream",
     "text": [
      "/opt/conda/lib/python3.10/site-packages/transformers/optimization.py:429: FutureWarning: This implementation of AdamW is deprecated and will be removed in a future version. Use the PyTorch implementation torch.optim.AdamW instead, or set `no_deprecation_warning=True` to disable this warning\n",
      "  warnings.warn(\n"
     ]
    }
   ],
   "source": [
    "from transformers import AdamW\n",
    "optimizer = AdamW(model.parameters(), lr=training_args.learning_rate)\n",
    "\n"
   ]
  },
  {
   "cell_type": "code",
   "execution_count": 44,
   "id": "38350436",
   "metadata": {
    "execution": {
     "iopub.execute_input": "2024-04-23T07:58:32.609611Z",
     "iopub.status.busy": "2024-04-23T07:58:32.608636Z",
     "iopub.status.idle": "2024-04-23T07:58:32.629837Z",
     "shell.execute_reply": "2024-04-23T07:58:32.628908Z"
    },
    "papermill": {
     "duration": 0.042869,
     "end_time": "2024-04-23T07:58:32.632019",
     "exception": false,
     "start_time": "2024-04-23T07:58:32.589150",
     "status": "completed"
    },
    "tags": []
   },
   "outputs": [
    {
     "name": "stderr",
     "output_type": "stream",
     "text": [
      "/opt/conda/lib/python3.10/site-packages/accelerate/accelerator.py:432: FutureWarning: Passing the following arguments to `Accelerator` is deprecated and will be removed in version 1.0 of Accelerate: dict_keys(['dispatch_batches', 'split_batches', 'even_batches', 'use_seedable_sampler']). Please pass an `accelerate.DataLoaderConfiguration` instead: \n",
      "dataloader_config = DataLoaderConfiguration(dispatch_batches=None, split_batches=False, even_batches=True, use_seedable_sampler=True)\n",
      "  warnings.warn(\n"
     ]
    }
   ],
   "source": [
    "trainer = Seq2SeqTrainer(\n",
    "    args=training_args,\n",
    "    model=model,\n",
    "    train_dataset=ds_splits[\"train\"],\n",
    "    eval_dataset=ds_splits[\"eval\"],\n",
    "    data_collator=data_collator,\n",
    "    tokenizer=processor.feature_extractor,\n",
    "    compute_metrics=compute_metrics,\n",
    "    optimizers=(optimizer, None),\n",
    "#     callbacks=[EarlyStoppingCallback(2, 1.0)]\n",
    ")"
   ]
  },
  {
   "cell_type": "code",
   "execution_count": 45,
   "id": "366f4e0f",
   "metadata": {
    "execution": {
     "iopub.execute_input": "2024-04-23T07:58:32.670034Z",
     "iopub.status.busy": "2024-04-23T07:58:32.669279Z",
     "iopub.status.idle": "2024-04-23T16:30:36.895569Z",
     "shell.execute_reply": "2024-04-23T16:30:36.894653Z"
    },
    "papermill": {
     "duration": 30724.247529,
     "end_time": "2024-04-23T16:30:36.897761",
     "exception": false,
     "start_time": "2024-04-23T07:58:32.650232",
     "status": "completed"
    },
    "tags": []
   },
   "outputs": [
    {
     "name": "stderr",
     "output_type": "stream",
     "text": [
      "/opt/conda/lib/python3.10/site-packages/torch/utils/checkpoint.py:429: UserWarning: torch.utils.checkpoint: please pass in use_reentrant=True or use_reentrant=False explicitly. The default value of use_reentrant will be updated to be False in the future. To maintain current behavior, pass use_reentrant=True. It is recommended that you use use_reentrant=False. Refer to docs for more details on the differences between the two variants.\n",
      "  warnings.warn(\n"
     ]
    },
    {
     "data": {
      "text/html": [
       "\n",
       "    <div>\n",
       "      \n",
       "      <progress value='5394' max='5394' style='width:300px; height:20px; vertical-align: middle;'></progress>\n",
       "      [5394/5394 8:31:56, Epoch 2/2]\n",
       "    </div>\n",
       "    <table border=\"1\" class=\"dataframe\">\n",
       "  <thead>\n",
       " <tr style=\"text-align: left;\">\n",
       "      <th>Epoch</th>\n",
       "      <th>Training Loss</th>\n",
       "      <th>Validation Loss</th>\n",
       "      <th>Wer</th>\n",
       "      <th>Cer</th>\n",
       "    </tr>\n",
       "  </thead>\n",
       "  <tbody>\n",
       "    <tr>\n",
       "      <td>1</td>\n",
       "      <td>0.216600</td>\n",
       "      <td>0.211570</td>\n",
       "      <td>0.638127</td>\n",
       "      <td>0.321800</td>\n",
       "    </tr>\n",
       "    <tr>\n",
       "      <td>2</td>\n",
       "      <td>0.114900</td>\n",
       "      <td>0.183261</td>\n",
       "      <td>0.578048</td>\n",
       "      <td>0.284783</td>\n",
       "    </tr>\n",
       "  </tbody>\n",
       "</table><p>"
      ],
      "text/plain": [
       "<IPython.core.display.HTML object>"
      ]
     },
     "metadata": {},
     "output_type": "display_data"
    },
    {
     "name": "stdout",
     "output_type": "stream",
     "text": [
      "WER: tensor(0.6381) | CER: tensor(0.3218)\n",
      "Pred: হে কিন্তু তোমার প্রচুর নিয়া আইয়া অবো। পরে কিন্তু মাতা আতাবো। এইডাই আমিও আসলে কি একটা বিষয় কি একটা বিষয় করতে গেলে আমার মনে করো প্রত্যেকটা চাইরটা-পাঁচটা সাইডই চিন্তাভাবনার করে নাই। তোমার চিন্তার কতাডা কিন্তু আমি কইলাম এনে। সেইটাই�\n",
      "Label: হে কিন্তু তোমার পচুর ঋণে আইয়া পড়বো। পরে কিন্তু মাতা আতাবো। সেটাই আমিও আসলে কি একটা বিষয় কি? একটা বিষয় করতে গেলে আবার মনে করো প্রত্যেকটা চাইরটা-পাঁচটা সাইটই চিন্তাভাবনা করোন নাগবো। তোমার চিন্তার কতাডাই কিন্তু আমি কইলাম এনু মানে �\n"
     ]
    },
    {
     "name": "stderr",
     "output_type": "stream",
     "text": [
      "Some non-default generation parameters are set in the model config. These should go into a GenerationConfig file (https://huggingface.co/docs/transformers/generation_strategies#save-a-custom-decoding-strategy-with-your-model) instead. This warning will be raised to an exception in v4.41.\n",
      "Non-default generation parameters: {'max_length': 448, 'suppress_tokens': [], 'begin_suppress_tokens': [220, 50257]}\n",
      "/opt/conda/lib/python3.10/site-packages/torch/utils/checkpoint.py:429: UserWarning: torch.utils.checkpoint: please pass in use_reentrant=True or use_reentrant=False explicitly. The default value of use_reentrant will be updated to be False in the future. To maintain current behavior, pass use_reentrant=True. It is recommended that you use use_reentrant=False. Refer to docs for more details on the differences between the two variants.\n",
      "  warnings.warn(\n"
     ]
    },
    {
     "name": "stdout",
     "output_type": "stream",
     "text": [
      "WER: tensor(0.5780) | CER: tensor(0.2848)\n",
      "Pred: হে কিন্তু তোমার প্রচুর হিনে আইয়া পাবো। পরে কিন্তু মাতা আতাবো কিন্তু। কিন্তু আই আমিও আসলে কি একটা বিষয় কি একটা বিষয় করতে গেলে আমার মনে করো প্রত্যেকটা চাইরটা-পাঁচটা সাইডি চিন্তা-ভাবনা করো নাকি? তোমার চিন্তার কতাডা কিন্তু আমি কইলাম \n",
      "Label: হে কিন্তু তোমার পচুর ঋণে আইয়া পড়বো। পরে কিন্তু মাতা আতাবো। সেটাই আমিও আসলে কি একটা বিষয় কি? একটা বিষয় করতে গেলে আবার মনে করো প্রত্যেকটা চাইরটা-পাঁচটা সাইটই চিন্তাভাবনা করোন নাগবো। তোমার চিন্তার কতাডাই কিন্তু আমি কইলাম এনু মানে �\n"
     ]
    },
    {
     "name": "stderr",
     "output_type": "stream",
     "text": [
      "Some non-default generation parameters are set in the model config. These should go into a GenerationConfig file (https://huggingface.co/docs/transformers/generation_strategies#save-a-custom-decoding-strategy-with-your-model) instead. This warning will be raised to an exception in v4.41.\n",
      "Non-default generation parameters: {'max_length': 448, 'suppress_tokens': [], 'begin_suppress_tokens': [220, 50257]}\n",
      "There were missing keys in the checkpoint model loaded: ['proj_out.weight'].\n",
      "Some non-default generation parameters are set in the model config. These should go into a GenerationConfig file (https://huggingface.co/docs/transformers/generation_strategies#save-a-custom-decoding-strategy-with-your-model) instead. This warning will be raised to an exception in v4.41.\n",
      "Non-default generation parameters: {'max_length': 448, 'suppress_tokens': [], 'begin_suppress_tokens': [220, 50257]}\n"
     ]
    },
    {
     "data": {
      "text/plain": [
       "[]"
      ]
     },
     "execution_count": 45,
     "metadata": {},
     "output_type": "execute_result"
    }
   ],
   "source": [
    "trainer.train()\n",
    "\n",
    "# to use the high-level pipeline, ensure both the processor outputs and model outputs exist in the same dir\n",
    "trainer.save_model(training_args.output_dir)\n",
    "processor.save_pretrained(training_args.output_dir)"
   ]
  },
  {
   "cell_type": "code",
   "execution_count": 46,
   "id": "ab1b7b55",
   "metadata": {
    "execution": {
     "iopub.execute_input": "2024-04-23T16:30:36.938076Z",
     "iopub.status.busy": "2024-04-23T16:30:36.937548Z",
     "iopub.status.idle": "2024-04-23T16:30:36.949134Z",
     "shell.execute_reply": "2024-04-23T16:30:36.948471Z"
    },
    "papermill": {
     "duration": 0.033802,
     "end_time": "2024-04-23T16:30:36.950987",
     "exception": false,
     "start_time": "2024-04-23T16:30:36.917185",
     "status": "completed"
    },
    "tags": []
   },
   "outputs": [],
   "source": [
    "out_logs = pd.DataFrame(trainer.state.log_history)\n",
    "out_logs.to_csv(\"logs.csv\")"
   ]
  },
  {
   "cell_type": "code",
   "execution_count": 47,
   "id": "47823501",
   "metadata": {
    "execution": {
     "iopub.execute_input": "2024-04-23T16:30:36.990004Z",
     "iopub.status.busy": "2024-04-23T16:30:36.989752Z",
     "iopub.status.idle": "2024-04-23T16:30:37.373289Z",
     "shell.execute_reply": "2024-04-23T16:30:37.372462Z"
    },
    "papermill": {
     "duration": 0.405385,
     "end_time": "2024-04-23T16:30:37.375279",
     "exception": false,
     "start_time": "2024-04-23T16:30:36.969894",
     "status": "completed"
    },
    "tags": []
   },
   "outputs": [
    {
     "data": {
      "text/plain": [
       "33"
      ]
     },
     "execution_count": 47,
     "metadata": {},
     "output_type": "execute_result"
    }
   ],
   "source": [
    "import gc\n",
    "\n",
    "del ds_splits\n",
    "\n",
    "gc.collect()"
   ]
  },
  {
   "cell_type": "code",
   "execution_count": 48,
   "id": "b8c63c0f",
   "metadata": {
    "execution": {
     "iopub.execute_input": "2024-04-23T16:30:37.414696Z",
     "iopub.status.busy": "2024-04-23T16:30:37.414398Z",
     "iopub.status.idle": "2024-04-23T16:30:37.473952Z",
     "shell.execute_reply": "2024-04-23T16:30:37.473104Z"
    },
    "papermill": {
     "duration": 0.081105,
     "end_time": "2024-04-23T16:30:37.475847",
     "exception": false,
     "start_time": "2024-04-23T16:30:37.394742",
     "status": "completed"
    },
    "tags": []
   },
   "outputs": [],
   "source": [
    "torch.cuda.empty_cache()"
   ]
  },
  {
   "cell_type": "code",
   "execution_count": 49,
   "id": "19bccd15",
   "metadata": {
    "execution": {
     "iopub.execute_input": "2024-04-23T16:30:37.515115Z",
     "iopub.status.busy": "2024-04-23T16:30:37.514827Z",
     "iopub.status.idle": "2024-04-23T16:30:38.495685Z",
     "shell.execute_reply": "2024-04-23T16:30:38.494825Z"
    },
    "papermill": {
     "duration": 1.003097,
     "end_time": "2024-04-23T16:30:38.498131",
     "exception": false,
     "start_time": "2024-04-23T16:30:37.495034",
     "status": "completed"
    },
    "tags": []
   },
   "outputs": [
    {
     "name": "stderr",
     "output_type": "stream",
     "text": [
      "Special tokens have been added in the vocabulary, make sure the associated word embeddings are fine-tuned or trained.\n",
      "Special tokens have been added in the vocabulary, make sure the associated word embeddings are fine-tuned or trained.\n"
     ]
    }
   ],
   "source": [
    "pipe = pipeline(\n",
    "    \"automatic-speech-recognition\",\n",
    "    model=model_id,\n",
    "    chunk_length_s=30,\n",
    "    device=0,\n",
    ")"
   ]
  },
  {
   "cell_type": "code",
   "execution_count": 50,
   "id": "dffd9276",
   "metadata": {
    "execution": {
     "iopub.execute_input": "2024-04-23T16:30:38.541271Z",
     "iopub.status.busy": "2024-04-23T16:30:38.540862Z",
     "iopub.status.idle": "2024-04-23T16:30:38.546327Z",
     "shell.execute_reply": "2024-04-23T16:30:38.545522Z"
    },
    "papermill": {
     "duration": 0.029285,
     "end_time": "2024-04-23T16:30:38.548306",
     "exception": false,
     "start_time": "2024-04-23T16:30:38.519021",
     "status": "completed"
    },
    "tags": []
   },
   "outputs": [],
   "source": [
    "def pretty_sort(filename):\n",
    "    name, number_str = filename.split(\" (\")\n",
    "    number = int(number_str.split(\")\")[0])\n",
    "    return name, number"
   ]
  },
  {
   "cell_type": "code",
   "execution_count": 51,
   "id": "85bcc016",
   "metadata": {
    "execution": {
     "iopub.execute_input": "2024-04-23T16:30:38.593165Z",
     "iopub.status.busy": "2024-04-23T16:30:38.592259Z",
     "iopub.status.idle": "2024-04-23T16:30:38.596473Z",
     "shell.execute_reply": "2024-04-23T16:30:38.595672Z"
    },
    "papermill": {
     "duration": 0.028231,
     "end_time": "2024-04-23T16:30:38.598463",
     "exception": false,
     "start_time": "2024-04-23T16:30:38.570232",
     "status": "completed"
    },
    "tags": []
   },
   "outputs": [],
   "source": [
    "ids = []\n",
    "preds = []"
   ]
  },
  {
   "cell_type": "code",
   "execution_count": 52,
   "id": "68a30410",
   "metadata": {
    "execution": {
     "iopub.execute_input": "2024-04-23T16:30:38.639064Z",
     "iopub.status.busy": "2024-04-23T16:30:38.638060Z",
     "iopub.status.idle": "2024-04-23T18:25:26.219909Z",
     "shell.execute_reply": "2024-04-23T18:25:26.219084Z"
    },
    "papermill": {
     "duration": 6887.6046,
     "end_time": "2024-04-23T18:25:26.222424",
     "exception": false,
     "start_time": "2024-04-23T16:30:38.617824",
     "status": "completed"
    },
    "tags": []
   },
   "outputs": [
    {
     "name": "stderr",
     "output_type": "stream",
     "text": [
      "/opt/conda/lib/python3.10/site-packages/transformers/pipelines/base.py:1157: UserWarning: You seem to be using the pipelines sequentially on GPU. In order to maximize efficiency please use a dataset\n",
      "  warnings.warn(\n"
     ]
    }
   ],
   "source": [
    "for root, dirs, files in os.walk(\"/kaggle/input/ben10/ben10/16_kHz_valid_audio\"):\n",
    "    files = sorted(files, key=pretty_sort)\n",
    "    \n",
    "#     print(files.index(\"valid_sandwip (1).wav\"))\n",
    "#     print(files.index(\"valid_sandwip (132).wav\"))\n",
    "    \n",
    "#     put swandip first\n",
    "    shift = files[1070 : 1202]\n",
    "    \n",
    "    files = shift + files[:1070] + files[1202:]\n",
    "    ids = files.copy()\n",
    "    \n",
    "    for file in files:\n",
    "        composed_path = f\"{test_data_dir}{file}\"\n",
    "        audio, sr = librosa.load(composed_path, sr=16_000)\n",
    "        text = pipe(audio)[\"text\"]\n",
    "        preds.append(text)"
   ]
  },
  {
   "cell_type": "code",
   "execution_count": null,
   "id": "d28f468e",
   "metadata": {
    "execution": {
     "iopub.execute_input": "2024-04-07T13:37:08.345491Z",
     "iopub.status.busy": "2024-04-07T13:37:08.345065Z",
     "iopub.status.idle": "2024-04-07T13:37:27.132851Z",
     "shell.execute_reply": "2024-04-07T13:37:27.131487Z",
     "shell.execute_reply.started": "2024-04-07T13:37:08.345459Z"
    },
    "papermill": {
     "duration": 0.018992,
     "end_time": "2024-04-23T18:25:26.263321",
     "exception": false,
     "start_time": "2024-04-23T18:25:26.244329",
     "status": "completed"
    },
    "tags": []
   },
   "outputs": [],
   "source": []
  },
  {
   "cell_type": "code",
   "execution_count": 53,
   "id": "4ef47b19",
   "metadata": {
    "execution": {
     "iopub.execute_input": "2024-04-23T18:25:26.303306Z",
     "iopub.status.busy": "2024-04-23T18:25:26.302942Z",
     "iopub.status.idle": "2024-04-23T18:25:26.308806Z",
     "shell.execute_reply": "2024-04-23T18:25:26.308055Z"
    },
    "papermill": {
     "duration": 0.02845,
     "end_time": "2024-04-23T18:25:26.310724",
     "exception": false,
     "start_time": "2024-04-23T18:25:26.282274",
     "status": "completed"
    },
    "tags": []
   },
   "outputs": [],
   "source": [
    "sub_df = pd.DataFrame()"
   ]
  },
  {
   "cell_type": "code",
   "execution_count": 54,
   "id": "f5fbed64",
   "metadata": {
    "execution": {
     "iopub.execute_input": "2024-04-23T18:25:26.350167Z",
     "iopub.status.busy": "2024-04-23T18:25:26.349894Z",
     "iopub.status.idle": "2024-04-23T18:25:26.359499Z",
     "shell.execute_reply": "2024-04-23T18:25:26.358763Z"
    },
    "papermill": {
     "duration": 0.031394,
     "end_time": "2024-04-23T18:25:26.361311",
     "exception": false,
     "start_time": "2024-04-23T18:25:26.329917",
     "status": "completed"
    },
    "tags": []
   },
   "outputs": [],
   "source": [
    "sub_df[\"id\"] = ids\n",
    "sub_df[\"sentence\"] = preds"
   ]
  },
  {
   "cell_type": "code",
   "execution_count": 55,
   "id": "717d737d",
   "metadata": {
    "execution": {
     "iopub.execute_input": "2024-04-23T18:25:26.401849Z",
     "iopub.status.busy": "2024-04-23T18:25:26.401526Z",
     "iopub.status.idle": "2024-04-23T18:25:26.426273Z",
     "shell.execute_reply": "2024-04-23T18:25:26.425553Z"
    },
    "papermill": {
     "duration": 0.047481,
     "end_time": "2024-04-23T18:25:26.428104",
     "exception": false,
     "start_time": "2024-04-23T18:25:26.380623",
     "status": "completed"
    },
    "tags": []
   },
   "outputs": [],
   "source": [
    "sub_df.to_csv(\"submission.csv\", index=False)"
   ]
  },
  {
   "cell_type": "code",
   "execution_count": 56,
   "id": "d630792a",
   "metadata": {
    "execution": {
     "iopub.execute_input": "2024-04-23T18:25:26.468187Z",
     "iopub.status.busy": "2024-04-23T18:25:26.467924Z",
     "iopub.status.idle": "2024-04-23T18:25:26.478661Z",
     "shell.execute_reply": "2024-04-23T18:25:26.477812Z"
    },
    "papermill": {
     "duration": 0.032862,
     "end_time": "2024-04-23T18:25:26.480619",
     "exception": false,
     "start_time": "2024-04-23T18:25:26.447757",
     "status": "completed"
    },
    "tags": []
   },
   "outputs": [
    {
     "data": {
      "text/html": [
       "<div>\n",
       "<style scoped>\n",
       "    .dataframe tbody tr th:only-of-type {\n",
       "        vertical-align: middle;\n",
       "    }\n",
       "\n",
       "    .dataframe tbody tr th {\n",
       "        vertical-align: top;\n",
       "    }\n",
       "\n",
       "    .dataframe thead th {\n",
       "        text-align: right;\n",
       "    }\n",
       "</style>\n",
       "<table border=\"1\" class=\"dataframe\">\n",
       "  <thead>\n",
       "    <tr style=\"text-align: right;\">\n",
       "      <th></th>\n",
       "      <th>id</th>\n",
       "      <th>sentence</th>\n",
       "    </tr>\n",
       "  </thead>\n",
       "  <tbody>\n",
       "    <tr>\n",
       "      <th>0</th>\n",
       "      <td>valid_sandwip (1).wav</td>\n",
       "      <td>হরালেখা করি কিন্তু, আইচ্ছা আম সিস্টাই সিস্টাই ...</td>\n",
       "    </tr>\n",
       "    <tr>\n",
       "      <th>1</th>\n",
       "      <td>valid_sandwip (2).wav</td>\n",
       "      <td>লইক্কু আছে নে? অনকার অল্লাইনের লক্ষ্য নাই। আন্...</td>\n",
       "    </tr>\n",
       "    <tr>\n",
       "      <th>2</th>\n",
       "      <td>valid_sandwip (3).wav</td>\n",
       "      <td>ভিতে-ভিতে অইছে বউত টেনশন লাগে। আসলেন, মানে আসল...</td>\n",
       "    </tr>\n",
       "    <tr>\n",
       "      <th>3</th>\n",
       "      <td>valid_sandwip (4).wav</td>\n",
       "      <td>বউত ভালা বুঝে তারফরেও হউরগা বাড়িত জিরুম, কিচ্চ...</td>\n",
       "    </tr>\n",
       "    <tr>\n",
       "      <th>4</th>\n",
       "      <td>valid_sandwip (5).wav</td>\n",
       "      <td>আনবে না, এক্কানা রানবে আনবে না। কাইলকা অন পৌরস...</td>\n",
       "    </tr>\n",
       "    <tr>\n",
       "      <th>5</th>\n",
       "      <td>valid_sandwip (6).wav</td>\n",
       "      <td>ক আমার মজা অইছে দো মজা অইছে দো, এন্নে হেগিন ভা...</td>\n",
       "    </tr>\n",
       "    <tr>\n",
       "      <th>6</th>\n",
       "      <td>valid_sandwip (7).wav</td>\n",
       "      <td>ও একানা ভড্ডা মাস টাছে এগিন একানা কুইট্টা কুদে...</td>\n",
       "    </tr>\n",
       "    <tr>\n",
       "      <th>7</th>\n",
       "      <td>valid_sandwip (8).wav</td>\n",
       "      <td>ধরইছে, এন্নে কাম বারিক্কা ন, যে ইয়ান করবি ইয়ান...</td>\n",
       "    </tr>\n",
       "    <tr>\n",
       "      <th>8</th>\n",
       "      <td>valid_sandwip (9).wav</td>\n",
       "      <td>তো এই আগাইরে এগুনেরে এগুনেরে কেমনে কিরমু? আর ম...</td>\n",
       "    </tr>\n",
       "    <tr>\n",
       "      <th>9</th>\n",
       "      <td>valid_sandwip (10).wav</td>\n",
       "      <td>হরালেখার মতো হরালেখা থাইকলে অইন্য কিছু লই চিন্...</td>\n",
       "    </tr>\n",
       "    <tr>\n",
       "      <th>10</th>\n",
       "      <td>valid_sandwip (11).wav</td>\n",
       "      <td>অববিয়া অ ন, সরকারি চাকরি করে। আঙ্গো রিয়া হুনিম...</td>\n",
       "    </tr>\n",
       "    <tr>\n",
       "      <th>11</th>\n",
       "      <td>valid_sandwip (12).wav</td>\n",
       "      <td>হোলার মারা, হোলা মাইয়ার মারা ইয়ারে আইয়া করি আঁ...</td>\n",
       "    </tr>\n",
       "    <tr>\n",
       "      <th>12</th>\n",
       "      <td>valid_sandwip (13).wav</td>\n",
       "      <td>মনে অরে বিয়ার হরে হরন বউত কষ্টের ব্যাফার বুইজ্...</td>\n",
       "    </tr>\n",
       "    <tr>\n",
       "      <th>13</th>\n",
       "      <td>valid_sandwip (14).wav</td>\n",
       "      <td>মুনিয়ের কতা, হরিক্কা দিবের কতা, আংগো বিতিন্ন এ...</td>\n",
       "    </tr>\n",
       "    <tr>\n",
       "      <th>14</th>\n",
       "      <td>valid_sandwip (15).wav</td>\n",
       "      <td>এগিন ইয়া অইতে অইলে ফরালেখারে বেফারে বেশি জিদ থ...</td>\n",
       "    </tr>\n",
       "    <tr>\n",
       "      <th>15</th>\n",
       "      <td>valid_sandwip (16).wav</td>\n",
       "      <td>এক্কারে ব্যাকের কাছে মশকারা অইজান লাগে। অত জিব...</td>\n",
       "    </tr>\n",
       "    <tr>\n",
       "      <th>16</th>\n",
       "      <td>valid_sandwip (17).wav</td>\n",
       "      <td>আন্নের ওই যে এই যে সময় আন্নের ফুরা ধুনিয়া আরি ...</td>\n",
       "    </tr>\n",
       "    <tr>\n",
       "      <th>17</th>\n",
       "      <td>valid_sandwip (18).wav</td>\n",
       "      <td>এখন যাই যাগা এই যাগা মেট্টি করি ক্যান কিছু কিন...</td>\n",
       "    </tr>\n",
       "    <tr>\n",
       "      <th>18</th>\n",
       "      <td>valid_sandwip (19).wav</td>\n",
       "      <td>আয়ে হাঁস কর এই কতা কইতো ন। অই তোমরা হুইদা ওগো ...</td>\n",
       "    </tr>\n",
       "    <tr>\n",
       "      <th>19</th>\n",
       "      <td>valid_sandwip (20).wav</td>\n",
       "      <td>অ আন্নের মেধাবি মানি অসম্ভব মেধাবি, অসম্ভব মেধ...</td>\n",
       "    </tr>\n",
       "  </tbody>\n",
       "</table>\n",
       "</div>"
      ],
      "text/plain": [
       "                        id                                           sentence\n",
       "0    valid_sandwip (1).wav  হরালেখা করি কিন্তু, আইচ্ছা আম সিস্টাই সিস্টাই ...\n",
       "1    valid_sandwip (2).wav  লইক্কু আছে নে? অনকার অল্লাইনের লক্ষ্য নাই। আন্...\n",
       "2    valid_sandwip (3).wav  ভিতে-ভিতে অইছে বউত টেনশন লাগে। আসলেন, মানে আসল...\n",
       "3    valid_sandwip (4).wav  বউত ভালা বুঝে তারফরেও হউরগা বাড়িত জিরুম, কিচ্চ...\n",
       "4    valid_sandwip (5).wav  আনবে না, এক্কানা রানবে আনবে না। কাইলকা অন পৌরস...\n",
       "5    valid_sandwip (6).wav  ক আমার মজা অইছে দো মজা অইছে দো, এন্নে হেগিন ভা...\n",
       "6    valid_sandwip (7).wav  ও একানা ভড্ডা মাস টাছে এগিন একানা কুইট্টা কুদে...\n",
       "7    valid_sandwip (8).wav  ধরইছে, এন্নে কাম বারিক্কা ন, যে ইয়ান করবি ইয়ান...\n",
       "8    valid_sandwip (9).wav  তো এই আগাইরে এগুনেরে এগুনেরে কেমনে কিরমু? আর ম...\n",
       "9   valid_sandwip (10).wav  হরালেখার মতো হরালেখা থাইকলে অইন্য কিছু লই চিন্...\n",
       "10  valid_sandwip (11).wav  অববিয়া অ ন, সরকারি চাকরি করে। আঙ্গো রিয়া হুনিম...\n",
       "11  valid_sandwip (12).wav  হোলার মারা, হোলা মাইয়ার মারা ইয়ারে আইয়া করি আঁ...\n",
       "12  valid_sandwip (13).wav  মনে অরে বিয়ার হরে হরন বউত কষ্টের ব্যাফার বুইজ্...\n",
       "13  valid_sandwip (14).wav  মুনিয়ের কতা, হরিক্কা দিবের কতা, আংগো বিতিন্ন এ...\n",
       "14  valid_sandwip (15).wav  এগিন ইয়া অইতে অইলে ফরালেখারে বেফারে বেশি জিদ থ...\n",
       "15  valid_sandwip (16).wav  এক্কারে ব্যাকের কাছে মশকারা অইজান লাগে। অত জিব...\n",
       "16  valid_sandwip (17).wav  আন্নের ওই যে এই যে সময় আন্নের ফুরা ধুনিয়া আরি ...\n",
       "17  valid_sandwip (18).wav  এখন যাই যাগা এই যাগা মেট্টি করি ক্যান কিছু কিন...\n",
       "18  valid_sandwip (19).wav  আয়ে হাঁস কর এই কতা কইতো ন। অই তোমরা হুইদা ওগো ...\n",
       "19  valid_sandwip (20).wav  অ আন্নের মেধাবি মানি অসম্ভব মেধাবি, অসম্ভব মেধ..."
      ]
     },
     "execution_count": 56,
     "metadata": {},
     "output_type": "execute_result"
    }
   ],
   "source": [
    "sub_df.head(20)"
   ]
  },
  {
   "cell_type": "code",
   "execution_count": null,
   "id": "83eed5a9",
   "metadata": {
    "papermill": {
     "duration": 0.019563,
     "end_time": "2024-04-23T18:25:26.520503",
     "exception": false,
     "start_time": "2024-04-23T18:25:26.500940",
     "status": "completed"
    },
    "tags": []
   },
   "outputs": [],
   "source": []
  }
 ],
 "metadata": {
  "kaggle": {
   "accelerator": "gpu",
   "dataSources": [
    {
     "databundleVersionId": 8149390,
     "sourceId": 73047,
     "sourceType": "competition"
    },
    {
     "datasetId": 4749230,
     "sourceId": 8053685,
     "sourceType": "datasetVersion"
    },
    {
     "datasetId": 4758773,
     "sourceId": 8066063,
     "sourceType": "datasetVersion"
    },
    {
     "datasetId": 4756671,
     "sourceId": 8117484,
     "sourceType": "datasetVersion"
    }
   ],
   "dockerImageVersionId": 30674,
   "isGpuEnabled": true,
   "isInternetEnabled": true,
   "language": "python",
   "sourceType": "notebook"
  },
  "kernelspec": {
   "display_name": "Python 3",
   "language": "python",
   "name": "python3"
  },
  "language_info": {
   "codemirror_mode": {
    "name": "ipython",
    "version": 3
   },
   "file_extension": ".py",
   "mimetype": "text/x-python",
   "name": "python",
   "nbconvert_exporter": "python",
   "pygments_lexer": "ipython3",
   "version": "3.10.13"
  },
  "papermill": {
   "default_parameters": {},
   "duration": 38274.902958,
   "end_time": "2024-04-23T18:25:30.182547",
   "environment_variables": {},
   "exception": null,
   "input_path": "__notebook__.ipynb",
   "output_path": "__notebook__.ipynb",
   "parameters": {},
   "start_time": "2024-04-23T07:47:35.279589",
   "version": "2.5.0"
  },
  "widgets": {
   "application/vnd.jupyter.widget-state+json": {
    "state": {
     "052a35d932634a47999021f998f89e46": {
      "model_module": "@jupyter-widgets/controls",
      "model_module_version": "1.5.0",
      "model_name": "HTMLModel",
      "state": {
       "_dom_classes": [],
       "_model_module": "@jupyter-widgets/controls",
       "_model_module_version": "1.5.0",
       "_model_name": "HTMLModel",
       "_view_count": null,
       "_view_module": "@jupyter-widgets/controls",
       "_view_module_version": "1.5.0",
       "_view_name": "HTMLView",
       "description": "",
       "description_tooltip": null,
       "layout": "IPY_MODEL_9b23f763ea494f4cb254173ccbfe9781",
       "placeholder": "​",
       "style": "IPY_MODEL_09f7f4848a2a4038b86d337c9d2bc29d",
       "value": " 10785/10785 [07:24&lt;00:00, 39.98ex/s]"
      }
     },
     "09f7f4848a2a4038b86d337c9d2bc29d": {
      "model_module": "@jupyter-widgets/controls",
      "model_module_version": "1.5.0",
      "model_name": "DescriptionStyleModel",
      "state": {
       "_model_module": "@jupyter-widgets/controls",
       "_model_module_version": "1.5.0",
       "_model_name": "DescriptionStyleModel",
       "_view_count": null,
       "_view_module": "@jupyter-widgets/base",
       "_view_module_version": "1.2.0",
       "_view_name": "StyleView",
       "description_width": ""
      }
     },
     "0c3e5bbc8c1d488e9ba28c7a874986c8": {
      "model_module": "@jupyter-widgets/controls",
      "model_module_version": "1.5.0",
      "model_name": "DescriptionStyleModel",
      "state": {
       "_model_module": "@jupyter-widgets/controls",
       "_model_module_version": "1.5.0",
       "_model_name": "DescriptionStyleModel",
       "_view_count": null,
       "_view_module": "@jupyter-widgets/base",
       "_view_module_version": "1.2.0",
       "_view_name": "StyleView",
       "description_width": ""
      }
     },
     "322094c1105a4c4fa0fcf6ff7965a766": {
      "model_module": "@jupyter-widgets/base",
      "model_module_version": "1.2.0",
      "model_name": "LayoutModel",
      "state": {
       "_model_module": "@jupyter-widgets/base",
       "_model_module_version": "1.2.0",
       "_model_name": "LayoutModel",
       "_view_count": null,
       "_view_module": "@jupyter-widgets/base",
       "_view_module_version": "1.2.0",
       "_view_name": "LayoutView",
       "align_content": null,
       "align_items": null,
       "align_self": null,
       "border": null,
       "bottom": null,
       "display": null,
       "flex": null,
       "flex_flow": null,
       "grid_area": null,
       "grid_auto_columns": null,
       "grid_auto_flow": null,
       "grid_auto_rows": null,
       "grid_column": null,
       "grid_gap": null,
       "grid_row": null,
       "grid_template_areas": null,
       "grid_template_columns": null,
       "grid_template_rows": null,
       "height": null,
       "justify_content": null,
       "justify_items": null,
       "left": null,
       "margin": null,
       "max_height": null,
       "max_width": null,
       "min_height": null,
       "min_width": null,
       "object_fit": null,
       "object_position": null,
       "order": null,
       "overflow": null,
       "overflow_x": null,
       "overflow_y": null,
       "padding": null,
       "right": null,
       "top": null,
       "visibility": null,
       "width": null
      }
     },
     "33026c5f25f54a32b27b91cd3acbcfe2": {
      "model_module": "@jupyter-widgets/controls",
      "model_module_version": "1.5.0",
      "model_name": "FloatProgressModel",
      "state": {
       "_dom_classes": [],
       "_model_module": "@jupyter-widgets/controls",
       "_model_module_version": "1.5.0",
       "_model_name": "FloatProgressModel",
       "_view_count": null,
       "_view_module": "@jupyter-widgets/controls",
       "_view_module_version": "1.5.0",
       "_view_name": "ProgressView",
       "bar_style": "success",
       "description": "",
       "description_tooltip": null,
       "layout": "IPY_MODEL_f9a70c65df604b57b54f54978fea646a",
       "max": 10785.0,
       "min": 0.0,
       "orientation": "horizontal",
       "style": "IPY_MODEL_97cd9f34514e47bcac7a07229bb39304",
       "value": 10785.0
      }
     },
     "410706cbb0614764829f6c7f8913a687": {
      "model_module": "@jupyter-widgets/controls",
      "model_module_version": "1.5.0",
      "model_name": "HTMLModel",
      "state": {
       "_dom_classes": [],
       "_model_module": "@jupyter-widgets/controls",
       "_model_module_version": "1.5.0",
       "_model_name": "HTMLModel",
       "_view_count": null,
       "_view_module": "@jupyter-widgets/controls",
       "_view_module_version": "1.5.0",
       "_view_name": "HTMLView",
       "description": "",
       "description_tooltip": null,
       "layout": "IPY_MODEL_6148a7fd17894111b139df3307eacef7",
       "placeholder": "​",
       "style": "IPY_MODEL_fdf6fff17988447fb9ef58978bc0e707",
       "value": "100%"
      }
     },
     "5bb40a2b3ef648ef97bed1ec4b63b2c2": {
      "model_module": "@jupyter-widgets/controls",
      "model_module_version": "1.5.0",
      "model_name": "HBoxModel",
      "state": {
       "_dom_classes": [],
       "_model_module": "@jupyter-widgets/controls",
       "_model_module_version": "1.5.0",
       "_model_name": "HBoxModel",
       "_view_count": null,
       "_view_module": "@jupyter-widgets/controls",
       "_view_module_version": "1.5.0",
       "_view_name": "HBoxView",
       "box_style": "",
       "children": [
        "IPY_MODEL_96d77c6d8ab745bbbfb83cac22a2de8a",
        "IPY_MODEL_ac46a3c494e2448e81f2f84eda011a9e",
        "IPY_MODEL_735d74bc9de04528938e4488a2300c5c"
       ],
       "layout": "IPY_MODEL_87d57517775a4dccbb28c00ab2706b40"
      }
     },
     "6148a7fd17894111b139df3307eacef7": {
      "model_module": "@jupyter-widgets/base",
      "model_module_version": "1.2.0",
      "model_name": "LayoutModel",
      "state": {
       "_model_module": "@jupyter-widgets/base",
       "_model_module_version": "1.2.0",
       "_model_name": "LayoutModel",
       "_view_count": null,
       "_view_module": "@jupyter-widgets/base",
       "_view_module_version": "1.2.0",
       "_view_name": "LayoutView",
       "align_content": null,
       "align_items": null,
       "align_self": null,
       "border": null,
       "bottom": null,
       "display": null,
       "flex": null,
       "flex_flow": null,
       "grid_area": null,
       "grid_auto_columns": null,
       "grid_auto_flow": null,
       "grid_auto_rows": null,
       "grid_column": null,
       "grid_gap": null,
       "grid_row": null,
       "grid_template_areas": null,
       "grid_template_columns": null,
       "grid_template_rows": null,
       "height": null,
       "justify_content": null,
       "justify_items": null,
       "left": null,
       "margin": null,
       "max_height": null,
       "max_width": null,
       "min_height": null,
       "min_width": null,
       "object_fit": null,
       "object_position": null,
       "order": null,
       "overflow": null,
       "overflow_x": null,
       "overflow_y": null,
       "padding": null,
       "right": null,
       "top": null,
       "visibility": null,
       "width": null
      }
     },
     "735d74bc9de04528938e4488a2300c5c": {
      "model_module": "@jupyter-widgets/controls",
      "model_module_version": "1.5.0",
      "model_name": "HTMLModel",
      "state": {
       "_dom_classes": [],
       "_model_module": "@jupyter-widgets/controls",
       "_model_module_version": "1.5.0",
       "_model_name": "HTMLModel",
       "_view_count": null,
       "_view_module": "@jupyter-widgets/controls",
       "_view_module_version": "1.5.0",
       "_view_name": "HTMLView",
       "description": "",
       "description_tooltip": null,
       "layout": "IPY_MODEL_e231f98ae1e84f83a5477f2fe822ed24",
       "placeholder": "​",
       "style": "IPY_MODEL_fe47a17e8e3446cbb52c66b937415c2b",
       "value": " 2697/2697 [01:25&lt;00:00, 20.21ex/s]"
      }
     },
     "87d57517775a4dccbb28c00ab2706b40": {
      "model_module": "@jupyter-widgets/base",
      "model_module_version": "1.2.0",
      "model_name": "LayoutModel",
      "state": {
       "_model_module": "@jupyter-widgets/base",
       "_model_module_version": "1.2.0",
       "_model_name": "LayoutModel",
       "_view_count": null,
       "_view_module": "@jupyter-widgets/base",
       "_view_module_version": "1.2.0",
       "_view_name": "LayoutView",
       "align_content": null,
       "align_items": null,
       "align_self": null,
       "border": null,
       "bottom": null,
       "display": null,
       "flex": null,
       "flex_flow": null,
       "grid_area": null,
       "grid_auto_columns": null,
       "grid_auto_flow": null,
       "grid_auto_rows": null,
       "grid_column": null,
       "grid_gap": null,
       "grid_row": null,
       "grid_template_areas": null,
       "grid_template_columns": null,
       "grid_template_rows": null,
       "height": null,
       "justify_content": null,
       "justify_items": null,
       "left": null,
       "margin": null,
       "max_height": null,
       "max_width": null,
       "min_height": null,
       "min_width": null,
       "object_fit": null,
       "object_position": null,
       "order": null,
       "overflow": null,
       "overflow_x": null,
       "overflow_y": null,
       "padding": null,
       "right": null,
       "top": null,
       "visibility": null,
       "width": null
      }
     },
     "96d77c6d8ab745bbbfb83cac22a2de8a": {
      "model_module": "@jupyter-widgets/controls",
      "model_module_version": "1.5.0",
      "model_name": "HTMLModel",
      "state": {
       "_dom_classes": [],
       "_model_module": "@jupyter-widgets/controls",
       "_model_module_version": "1.5.0",
       "_model_name": "HTMLModel",
       "_view_count": null,
       "_view_module": "@jupyter-widgets/controls",
       "_view_module_version": "1.5.0",
       "_view_name": "HTMLView",
       "description": "",
       "description_tooltip": null,
       "layout": "IPY_MODEL_322094c1105a4c4fa0fcf6ff7965a766",
       "placeholder": "​",
       "style": "IPY_MODEL_0c3e5bbc8c1d488e9ba28c7a874986c8",
       "value": "100%"
      }
     },
     "97cd9f34514e47bcac7a07229bb39304": {
      "model_module": "@jupyter-widgets/controls",
      "model_module_version": "1.5.0",
      "model_name": "ProgressStyleModel",
      "state": {
       "_model_module": "@jupyter-widgets/controls",
       "_model_module_version": "1.5.0",
       "_model_name": "ProgressStyleModel",
       "_view_count": null,
       "_view_module": "@jupyter-widgets/base",
       "_view_module_version": "1.2.0",
       "_view_name": "StyleView",
       "bar_color": null,
       "description_width": ""
      }
     },
     "9b23f763ea494f4cb254173ccbfe9781": {
      "model_module": "@jupyter-widgets/base",
      "model_module_version": "1.2.0",
      "model_name": "LayoutModel",
      "state": {
       "_model_module": "@jupyter-widgets/base",
       "_model_module_version": "1.2.0",
       "_model_name": "LayoutModel",
       "_view_count": null,
       "_view_module": "@jupyter-widgets/base",
       "_view_module_version": "1.2.0",
       "_view_name": "LayoutView",
       "align_content": null,
       "align_items": null,
       "align_self": null,
       "border": null,
       "bottom": null,
       "display": null,
       "flex": null,
       "flex_flow": null,
       "grid_area": null,
       "grid_auto_columns": null,
       "grid_auto_flow": null,
       "grid_auto_rows": null,
       "grid_column": null,
       "grid_gap": null,
       "grid_row": null,
       "grid_template_areas": null,
       "grid_template_columns": null,
       "grid_template_rows": null,
       "height": null,
       "justify_content": null,
       "justify_items": null,
       "left": null,
       "margin": null,
       "max_height": null,
       "max_width": null,
       "min_height": null,
       "min_width": null,
       "object_fit": null,
       "object_position": null,
       "order": null,
       "overflow": null,
       "overflow_x": null,
       "overflow_y": null,
       "padding": null,
       "right": null,
       "top": null,
       "visibility": null,
       "width": null
      }
     },
     "9ee05cb17f134e1081ad5dbb1a11002e": {
      "model_module": "@jupyter-widgets/controls",
      "model_module_version": "1.5.0",
      "model_name": "ProgressStyleModel",
      "state": {
       "_model_module": "@jupyter-widgets/controls",
       "_model_module_version": "1.5.0",
       "_model_name": "ProgressStyleModel",
       "_view_count": null,
       "_view_module": "@jupyter-widgets/base",
       "_view_module_version": "1.2.0",
       "_view_name": "StyleView",
       "bar_color": null,
       "description_width": ""
      }
     },
     "ac46a3c494e2448e81f2f84eda011a9e": {
      "model_module": "@jupyter-widgets/controls",
      "model_module_version": "1.5.0",
      "model_name": "FloatProgressModel",
      "state": {
       "_dom_classes": [],
       "_model_module": "@jupyter-widgets/controls",
       "_model_module_version": "1.5.0",
       "_model_name": "FloatProgressModel",
       "_view_count": null,
       "_view_module": "@jupyter-widgets/controls",
       "_view_module_version": "1.5.0",
       "_view_name": "ProgressView",
       "bar_style": "success",
       "description": "",
       "description_tooltip": null,
       "layout": "IPY_MODEL_f14b2281edc74d2b91e58c1b7f75e5e1",
       "max": 2697.0,
       "min": 0.0,
       "orientation": "horizontal",
       "style": "IPY_MODEL_9ee05cb17f134e1081ad5dbb1a11002e",
       "value": 2697.0
      }
     },
     "e231f98ae1e84f83a5477f2fe822ed24": {
      "model_module": "@jupyter-widgets/base",
      "model_module_version": "1.2.0",
      "model_name": "LayoutModel",
      "state": {
       "_model_module": "@jupyter-widgets/base",
       "_model_module_version": "1.2.0",
       "_model_name": "LayoutModel",
       "_view_count": null,
       "_view_module": "@jupyter-widgets/base",
       "_view_module_version": "1.2.0",
       "_view_name": "LayoutView",
       "align_content": null,
       "align_items": null,
       "align_self": null,
       "border": null,
       "bottom": null,
       "display": null,
       "flex": null,
       "flex_flow": null,
       "grid_area": null,
       "grid_auto_columns": null,
       "grid_auto_flow": null,
       "grid_auto_rows": null,
       "grid_column": null,
       "grid_gap": null,
       "grid_row": null,
       "grid_template_areas": null,
       "grid_template_columns": null,
       "grid_template_rows": null,
       "height": null,
       "justify_content": null,
       "justify_items": null,
       "left": null,
       "margin": null,
       "max_height": null,
       "max_width": null,
       "min_height": null,
       "min_width": null,
       "object_fit": null,
       "object_position": null,
       "order": null,
       "overflow": null,
       "overflow_x": null,
       "overflow_y": null,
       "padding": null,
       "right": null,
       "top": null,
       "visibility": null,
       "width": null
      }
     },
     "e48d4adeaa31434bbff0a4566194823e": {
      "model_module": "@jupyter-widgets/base",
      "model_module_version": "1.2.0",
      "model_name": "LayoutModel",
      "state": {
       "_model_module": "@jupyter-widgets/base",
       "_model_module_version": "1.2.0",
       "_model_name": "LayoutModel",
       "_view_count": null,
       "_view_module": "@jupyter-widgets/base",
       "_view_module_version": "1.2.0",
       "_view_name": "LayoutView",
       "align_content": null,
       "align_items": null,
       "align_self": null,
       "border": null,
       "bottom": null,
       "display": null,
       "flex": null,
       "flex_flow": null,
       "grid_area": null,
       "grid_auto_columns": null,
       "grid_auto_flow": null,
       "grid_auto_rows": null,
       "grid_column": null,
       "grid_gap": null,
       "grid_row": null,
       "grid_template_areas": null,
       "grid_template_columns": null,
       "grid_template_rows": null,
       "height": null,
       "justify_content": null,
       "justify_items": null,
       "left": null,
       "margin": null,
       "max_height": null,
       "max_width": null,
       "min_height": null,
       "min_width": null,
       "object_fit": null,
       "object_position": null,
       "order": null,
       "overflow": null,
       "overflow_x": null,
       "overflow_y": null,
       "padding": null,
       "right": null,
       "top": null,
       "visibility": null,
       "width": null
      }
     },
     "ef2d1a690ab74814b96f7a66ec187548": {
      "model_module": "@jupyter-widgets/controls",
      "model_module_version": "1.5.0",
      "model_name": "HBoxModel",
      "state": {
       "_dom_classes": [],
       "_model_module": "@jupyter-widgets/controls",
       "_model_module_version": "1.5.0",
       "_model_name": "HBoxModel",
       "_view_count": null,
       "_view_module": "@jupyter-widgets/controls",
       "_view_module_version": "1.5.0",
       "_view_name": "HBoxView",
       "box_style": "",
       "children": [
        "IPY_MODEL_410706cbb0614764829f6c7f8913a687",
        "IPY_MODEL_33026c5f25f54a32b27b91cd3acbcfe2",
        "IPY_MODEL_052a35d932634a47999021f998f89e46"
       ],
       "layout": "IPY_MODEL_e48d4adeaa31434bbff0a4566194823e"
      }
     },
     "f14b2281edc74d2b91e58c1b7f75e5e1": {
      "model_module": "@jupyter-widgets/base",
      "model_module_version": "1.2.0",
      "model_name": "LayoutModel",
      "state": {
       "_model_module": "@jupyter-widgets/base",
       "_model_module_version": "1.2.0",
       "_model_name": "LayoutModel",
       "_view_count": null,
       "_view_module": "@jupyter-widgets/base",
       "_view_module_version": "1.2.0",
       "_view_name": "LayoutView",
       "align_content": null,
       "align_items": null,
       "align_self": null,
       "border": null,
       "bottom": null,
       "display": null,
       "flex": null,
       "flex_flow": null,
       "grid_area": null,
       "grid_auto_columns": null,
       "grid_auto_flow": null,
       "grid_auto_rows": null,
       "grid_column": null,
       "grid_gap": null,
       "grid_row": null,
       "grid_template_areas": null,
       "grid_template_columns": null,
       "grid_template_rows": null,
       "height": null,
       "justify_content": null,
       "justify_items": null,
       "left": null,
       "margin": null,
       "max_height": null,
       "max_width": null,
       "min_height": null,
       "min_width": null,
       "object_fit": null,
       "object_position": null,
       "order": null,
       "overflow": null,
       "overflow_x": null,
       "overflow_y": null,
       "padding": null,
       "right": null,
       "top": null,
       "visibility": null,
       "width": null
      }
     },
     "f9a70c65df604b57b54f54978fea646a": {
      "model_module": "@jupyter-widgets/base",
      "model_module_version": "1.2.0",
      "model_name": "LayoutModel",
      "state": {
       "_model_module": "@jupyter-widgets/base",
       "_model_module_version": "1.2.0",
       "_model_name": "LayoutModel",
       "_view_count": null,
       "_view_module": "@jupyter-widgets/base",
       "_view_module_version": "1.2.0",
       "_view_name": "LayoutView",
       "align_content": null,
       "align_items": null,
       "align_self": null,
       "border": null,
       "bottom": null,
       "display": null,
       "flex": null,
       "flex_flow": null,
       "grid_area": null,
       "grid_auto_columns": null,
       "grid_auto_flow": null,
       "grid_auto_rows": null,
       "grid_column": null,
       "grid_gap": null,
       "grid_row": null,
       "grid_template_areas": null,
       "grid_template_columns": null,
       "grid_template_rows": null,
       "height": null,
       "justify_content": null,
       "justify_items": null,
       "left": null,
       "margin": null,
       "max_height": null,
       "max_width": null,
       "min_height": null,
       "min_width": null,
       "object_fit": null,
       "object_position": null,
       "order": null,
       "overflow": null,
       "overflow_x": null,
       "overflow_y": null,
       "padding": null,
       "right": null,
       "top": null,
       "visibility": null,
       "width": null
      }
     },
     "fdf6fff17988447fb9ef58978bc0e707": {
      "model_module": "@jupyter-widgets/controls",
      "model_module_version": "1.5.0",
      "model_name": "DescriptionStyleModel",
      "state": {
       "_model_module": "@jupyter-widgets/controls",
       "_model_module_version": "1.5.0",
       "_model_name": "DescriptionStyleModel",
       "_view_count": null,
       "_view_module": "@jupyter-widgets/base",
       "_view_module_version": "1.2.0",
       "_view_name": "StyleView",
       "description_width": ""
      }
     },
     "fe47a17e8e3446cbb52c66b937415c2b": {
      "model_module": "@jupyter-widgets/controls",
      "model_module_version": "1.5.0",
      "model_name": "DescriptionStyleModel",
      "state": {
       "_model_module": "@jupyter-widgets/controls",
       "_model_module_version": "1.5.0",
       "_model_name": "DescriptionStyleModel",
       "_view_count": null,
       "_view_module": "@jupyter-widgets/base",
       "_view_module_version": "1.2.0",
       "_view_name": "StyleView",
       "description_width": ""
      }
     }
    },
    "version_major": 2,
    "version_minor": 0
   }
  }
 },
 "nbformat": 4,
 "nbformat_minor": 5
}
